{
  "nbformat": 4,
  "nbformat_minor": 0,
  "metadata": {
    "colab": {
      "name": "Regression Project.ipynb",
      "provenance": [],
      "collapsed_sections": [],
      "mount_file_id": "1pCelGxuq9HPo-_CMXVi94FTHYa5OpEpi",
      "authorship_tag": "ABX9TyO6XRdTenqYsaNg6n6x4Y3F",
      "include_colab_link": true
    },
    "kernelspec": {
      "name": "python3",
      "display_name": "Python 3"
    }
  },
  "cells": [
    {
      "cell_type": "markdown",
      "metadata": {
        "id": "view-in-github",
        "colab_type": "text"
      },
      "source": [
        "<a href=\"https://colab.research.google.com/github/DanielKorenDataScience/RegressionProject/blob/main/Regression%20Project.ipynb\" target=\"_parent\"><img src=\"https://colab.research.google.com/assets/colab-badge.svg\" alt=\"Open In Colab\"/></a>"
      ]
    },
    {
      "cell_type": "markdown",
      "metadata": {
        "id": "yHL4Jut3PWUy"
      },
      "source": [
        "# **Laptop Prices prediction using Regression ML model**"
      ]
    },
    {
      "cell_type": "markdown",
      "metadata": {
        "id": "cgy3-VhyPiM1"
      },
      "source": [
        "# **Source link**"
      ]
    },
    {
      "cell_type": "markdown",
      "metadata": {
        "id": "hJPxmeIQOF6Y"
      },
      "source": [
        "https://www.kaggle.com/muhammetvarl/laptop-price"
      ]
    },
    {
      "cell_type": "markdown",
      "metadata": {
        "id": "KKg52oWjPpjY"
      },
      "source": [
        "# **Preliminary**"
      ]
    },
    {
      "cell_type": "code",
      "metadata": {
        "id": "b5KSdzqZTYR9"
      },
      "source": [
        "import numpy as np\n",
        "import matplotlib.pyplot as plt\n",
        "import pandas as pd\n",
        "import seaborn as sns\n",
        "import requests\n",
        "import sys\n",
        "import os\n",
        "\n",
        "# For transformations and predictions\n",
        "from sklearn.preprocessing import FunctionTransformer\n",
        "from sklearn.linear_model import LinearRegression\n",
        "from scipy.optimize import curve_fit\n",
        "from sklearn.tree import DecisionTreeRegressor, export_graphviz\n",
        "from sklearn.neighbors import KNeighborsRegressor\n",
        "from sklearn.preprocessing import MinMaxScaler\n",
        "from sklearn.metrics import pairwise_distances\n",
        "\n",
        "# For the tree visualization\n",
        "import pydot\n",
        "from IPython.display import Image\n",
        "from sklearn.externals.six import StringIO\n",
        "\n",
        "# For scoring\n",
        "from sklearn.metrics import mean_squared_log_error as msle\n",
        "from sklearn.metrics import mean_squared_error as mse\n",
        "\n",
        "\n",
        "# For validation\n",
        "from sklearn.model_selection import train_test_split as split\n",
        "\n",
        "%matplotlib inline"
      ],
      "execution_count": 646,
      "outputs": []
    },
    {
      "cell_type": "code",
      "metadata": {
        "id": "-256g0VRMQnJ"
      },
      "source": [
        "data_url = 'https://raw.githubusercontent.com/DanielKorenDataScience/RegressionProject/master/laptop_price.csv'\n",
        "resp = requests.get(data_url)\n",
        "text = resp.text\n",
        "\n",
        "with open('laptop_price.csv', 'w') as fh:\n",
        "    fh.write(text)\n",
        "  \n",
        "df = pd.read_csv('laptop_price.csv')"
      ],
      "execution_count": 647,
      "outputs": []
    },
    {
      "cell_type": "code",
      "metadata": {
        "id": "CL0XbJCiU5Y1"
      },
      "source": [
        "df = pd.read_csv('laptop_price.csv', encoding='ISO-8859–1')"
      ],
      "execution_count": 648,
      "outputs": []
    },
    {
      "cell_type": "markdown",
      "metadata": {
        "id": "DtjeZ8CIP4cS"
      },
      "source": [
        "# **Knowing the data**"
      ]
    },
    {
      "cell_type": "code",
      "metadata": {
        "colab": {
          "base_uri": "https://localhost:8080/",
          "height": 0
        },
        "id": "SmjQlBH-VASo",
        "outputId": "e782db85-9b9a-42ce-e634-40e9ae74c358"
      },
      "source": [
        "df.head(5)"
      ],
      "execution_count": 649,
      "outputs": [
        {
          "output_type": "execute_result",
          "data": {
            "text/html": [
              "<div>\n",
              "<style scoped>\n",
              "    .dataframe tbody tr th:only-of-type {\n",
              "        vertical-align: middle;\n",
              "    }\n",
              "\n",
              "    .dataframe tbody tr th {\n",
              "        vertical-align: top;\n",
              "    }\n",
              "\n",
              "    .dataframe thead th {\n",
              "        text-align: right;\n",
              "    }\n",
              "</style>\n",
              "<table border=\"1\" class=\"dataframe\">\n",
              "  <thead>\n",
              "    <tr style=\"text-align: right;\">\n",
              "      <th></th>\n",
              "      <th>laptop_ID</th>\n",
              "      <th>Company</th>\n",
              "      <th>Product</th>\n",
              "      <th>TypeName</th>\n",
              "      <th>Inches</th>\n",
              "      <th>ScreenResolution</th>\n",
              "      <th>Cpu</th>\n",
              "      <th>Ram</th>\n",
              "      <th>Memory</th>\n",
              "      <th>Gpu</th>\n",
              "      <th>OpSys</th>\n",
              "      <th>Weight</th>\n",
              "      <th>Price_euros</th>\n",
              "    </tr>\n",
              "  </thead>\n",
              "  <tbody>\n",
              "    <tr>\n",
              "      <th>0</th>\n",
              "      <td>1</td>\n",
              "      <td>Apple</td>\n",
              "      <td>MacBook Pro</td>\n",
              "      <td>Ultrabook</td>\n",
              "      <td>13.3</td>\n",
              "      <td>IPS Panel Retina Display 2560x1600</td>\n",
              "      <td>Intel Core i5 2.3GHz</td>\n",
              "      <td>8GB</td>\n",
              "      <td>128GB SSD</td>\n",
              "      <td>Intel Iris Plus Graphics 640</td>\n",
              "      <td>macOS</td>\n",
              "      <td>1.37kg</td>\n",
              "      <td>1339.69</td>\n",
              "    </tr>\n",
              "    <tr>\n",
              "      <th>1</th>\n",
              "      <td>2</td>\n",
              "      <td>Apple</td>\n",
              "      <td>Macbook Air</td>\n",
              "      <td>Ultrabook</td>\n",
              "      <td>13.3</td>\n",
              "      <td>1440x900</td>\n",
              "      <td>Intel Core i5 1.8GHz</td>\n",
              "      <td>8GB</td>\n",
              "      <td>128GB Flash Storage</td>\n",
              "      <td>Intel HD Graphics 6000</td>\n",
              "      <td>macOS</td>\n",
              "      <td>1.34kg</td>\n",
              "      <td>898.94</td>\n",
              "    </tr>\n",
              "    <tr>\n",
              "      <th>2</th>\n",
              "      <td>3</td>\n",
              "      <td>HP</td>\n",
              "      <td>250 G6</td>\n",
              "      <td>Notebook</td>\n",
              "      <td>15.6</td>\n",
              "      <td>Full HD 1920x1080</td>\n",
              "      <td>Intel Core i5 7200U 2.5GHz</td>\n",
              "      <td>8GB</td>\n",
              "      <td>256GB SSD</td>\n",
              "      <td>Intel HD Graphics 620</td>\n",
              "      <td>No OS</td>\n",
              "      <td>1.86kg</td>\n",
              "      <td>575.00</td>\n",
              "    </tr>\n",
              "    <tr>\n",
              "      <th>3</th>\n",
              "      <td>4</td>\n",
              "      <td>Apple</td>\n",
              "      <td>MacBook Pro</td>\n",
              "      <td>Ultrabook</td>\n",
              "      <td>15.4</td>\n",
              "      <td>IPS Panel Retina Display 2880x1800</td>\n",
              "      <td>Intel Core i7 2.7GHz</td>\n",
              "      <td>16GB</td>\n",
              "      <td>512GB SSD</td>\n",
              "      <td>AMD Radeon Pro 455</td>\n",
              "      <td>macOS</td>\n",
              "      <td>1.83kg</td>\n",
              "      <td>2537.45</td>\n",
              "    </tr>\n",
              "    <tr>\n",
              "      <th>4</th>\n",
              "      <td>5</td>\n",
              "      <td>Apple</td>\n",
              "      <td>MacBook Pro</td>\n",
              "      <td>Ultrabook</td>\n",
              "      <td>13.3</td>\n",
              "      <td>IPS Panel Retina Display 2560x1600</td>\n",
              "      <td>Intel Core i5 3.1GHz</td>\n",
              "      <td>8GB</td>\n",
              "      <td>256GB SSD</td>\n",
              "      <td>Intel Iris Plus Graphics 650</td>\n",
              "      <td>macOS</td>\n",
              "      <td>1.37kg</td>\n",
              "      <td>1803.60</td>\n",
              "    </tr>\n",
              "  </tbody>\n",
              "</table>\n",
              "</div>"
            ],
            "text/plain": [
              "   laptop_ID Company      Product  ...  OpSys  Weight Price_euros\n",
              "0          1   Apple  MacBook Pro  ...  macOS  1.37kg     1339.69\n",
              "1          2   Apple  Macbook Air  ...  macOS  1.34kg      898.94\n",
              "2          3      HP       250 G6  ...  No OS  1.86kg      575.00\n",
              "3          4   Apple  MacBook Pro  ...  macOS  1.83kg     2537.45\n",
              "4          5   Apple  MacBook Pro  ...  macOS  1.37kg     1803.60\n",
              "\n",
              "[5 rows x 13 columns]"
            ]
          },
          "metadata": {
            "tags": []
          },
          "execution_count": 649
        }
      ]
    },
    {
      "cell_type": "code",
      "metadata": {
        "id": "y91w7ZFgSMhj",
        "colab": {
          "base_uri": "https://localhost:8080/"
        },
        "outputId": "81273498-47a3-4614-b7a3-364a528e8daa"
      },
      "source": [
        "df.nunique()"
      ],
      "execution_count": 650,
      "outputs": [
        {
          "output_type": "execute_result",
          "data": {
            "text/plain": [
              "laptop_ID           1303\n",
              "Company               19\n",
              "Product              618\n",
              "TypeName               6\n",
              "Inches                18\n",
              "ScreenResolution      40\n",
              "Cpu                  118\n",
              "Ram                    9\n",
              "Memory                39\n",
              "Gpu                  110\n",
              "OpSys                  9\n",
              "Weight               179\n",
              "Price_euros          791\n",
              "dtype: int64"
            ]
          },
          "metadata": {
            "tags": []
          },
          "execution_count": 650
        }
      ]
    },
    {
      "cell_type": "code",
      "metadata": {
        "id": "60w_bzjLQFxD",
        "colab": {
          "base_uri": "https://localhost:8080/",
          "height": 0
        },
        "outputId": "c4c1fd2c-ab54-47bb-df6b-cc2b2eb53b88"
      },
      "source": [
        "df.describe()"
      ],
      "execution_count": 651,
      "outputs": [
        {
          "output_type": "execute_result",
          "data": {
            "text/html": [
              "<div>\n",
              "<style scoped>\n",
              "    .dataframe tbody tr th:only-of-type {\n",
              "        vertical-align: middle;\n",
              "    }\n",
              "\n",
              "    .dataframe tbody tr th {\n",
              "        vertical-align: top;\n",
              "    }\n",
              "\n",
              "    .dataframe thead th {\n",
              "        text-align: right;\n",
              "    }\n",
              "</style>\n",
              "<table border=\"1\" class=\"dataframe\">\n",
              "  <thead>\n",
              "    <tr style=\"text-align: right;\">\n",
              "      <th></th>\n",
              "      <th>laptop_ID</th>\n",
              "      <th>Inches</th>\n",
              "      <th>Price_euros</th>\n",
              "    </tr>\n",
              "  </thead>\n",
              "  <tbody>\n",
              "    <tr>\n",
              "      <th>count</th>\n",
              "      <td>1303.000000</td>\n",
              "      <td>1303.000000</td>\n",
              "      <td>1303.000000</td>\n",
              "    </tr>\n",
              "    <tr>\n",
              "      <th>mean</th>\n",
              "      <td>660.155794</td>\n",
              "      <td>15.017191</td>\n",
              "      <td>1123.686992</td>\n",
              "    </tr>\n",
              "    <tr>\n",
              "      <th>std</th>\n",
              "      <td>381.172104</td>\n",
              "      <td>1.426304</td>\n",
              "      <td>699.009043</td>\n",
              "    </tr>\n",
              "    <tr>\n",
              "      <th>min</th>\n",
              "      <td>1.000000</td>\n",
              "      <td>10.100000</td>\n",
              "      <td>174.000000</td>\n",
              "    </tr>\n",
              "    <tr>\n",
              "      <th>25%</th>\n",
              "      <td>331.500000</td>\n",
              "      <td>14.000000</td>\n",
              "      <td>599.000000</td>\n",
              "    </tr>\n",
              "    <tr>\n",
              "      <th>50%</th>\n",
              "      <td>659.000000</td>\n",
              "      <td>15.600000</td>\n",
              "      <td>977.000000</td>\n",
              "    </tr>\n",
              "    <tr>\n",
              "      <th>75%</th>\n",
              "      <td>990.500000</td>\n",
              "      <td>15.600000</td>\n",
              "      <td>1487.880000</td>\n",
              "    </tr>\n",
              "    <tr>\n",
              "      <th>max</th>\n",
              "      <td>1320.000000</td>\n",
              "      <td>18.400000</td>\n",
              "      <td>6099.000000</td>\n",
              "    </tr>\n",
              "  </tbody>\n",
              "</table>\n",
              "</div>"
            ],
            "text/plain": [
              "         laptop_ID       Inches  Price_euros\n",
              "count  1303.000000  1303.000000  1303.000000\n",
              "mean    660.155794    15.017191  1123.686992\n",
              "std     381.172104     1.426304   699.009043\n",
              "min       1.000000    10.100000   174.000000\n",
              "25%     331.500000    14.000000   599.000000\n",
              "50%     659.000000    15.600000   977.000000\n",
              "75%     990.500000    15.600000  1487.880000\n",
              "max    1320.000000    18.400000  6099.000000"
            ]
          },
          "metadata": {
            "tags": []
          },
          "execution_count": 651
        }
      ]
    },
    {
      "cell_type": "code",
      "metadata": {
        "id": "JiPgyrdCP_Gz",
        "colab": {
          "base_uri": "https://localhost:8080/",
          "height": 0
        },
        "outputId": "5e0c9c19-d5ca-4a43-8f88-340bf8875c12"
      },
      "source": [
        "df.T"
      ],
      "execution_count": 652,
      "outputs": [
        {
          "output_type": "execute_result",
          "data": {
            "text/html": [
              "<div>\n",
              "<style scoped>\n",
              "    .dataframe tbody tr th:only-of-type {\n",
              "        vertical-align: middle;\n",
              "    }\n",
              "\n",
              "    .dataframe tbody tr th {\n",
              "        vertical-align: top;\n",
              "    }\n",
              "\n",
              "    .dataframe thead th {\n",
              "        text-align: right;\n",
              "    }\n",
              "</style>\n",
              "<table border=\"1\" class=\"dataframe\">\n",
              "  <thead>\n",
              "    <tr style=\"text-align: right;\">\n",
              "      <th></th>\n",
              "      <th>0</th>\n",
              "      <th>1</th>\n",
              "      <th>2</th>\n",
              "      <th>3</th>\n",
              "      <th>4</th>\n",
              "      <th>5</th>\n",
              "      <th>6</th>\n",
              "      <th>7</th>\n",
              "      <th>8</th>\n",
              "      <th>9</th>\n",
              "      <th>10</th>\n",
              "      <th>11</th>\n",
              "      <th>12</th>\n",
              "      <th>13</th>\n",
              "      <th>14</th>\n",
              "      <th>15</th>\n",
              "      <th>16</th>\n",
              "      <th>17</th>\n",
              "      <th>18</th>\n",
              "      <th>19</th>\n",
              "      <th>20</th>\n",
              "      <th>21</th>\n",
              "      <th>22</th>\n",
              "      <th>23</th>\n",
              "      <th>24</th>\n",
              "      <th>25</th>\n",
              "      <th>26</th>\n",
              "      <th>27</th>\n",
              "      <th>28</th>\n",
              "      <th>29</th>\n",
              "      <th>30</th>\n",
              "      <th>31</th>\n",
              "      <th>32</th>\n",
              "      <th>33</th>\n",
              "      <th>34</th>\n",
              "      <th>35</th>\n",
              "      <th>36</th>\n",
              "      <th>37</th>\n",
              "      <th>38</th>\n",
              "      <th>39</th>\n",
              "      <th>...</th>\n",
              "      <th>1263</th>\n",
              "      <th>1264</th>\n",
              "      <th>1265</th>\n",
              "      <th>1266</th>\n",
              "      <th>1267</th>\n",
              "      <th>1268</th>\n",
              "      <th>1269</th>\n",
              "      <th>1270</th>\n",
              "      <th>1271</th>\n",
              "      <th>1272</th>\n",
              "      <th>1273</th>\n",
              "      <th>1274</th>\n",
              "      <th>1275</th>\n",
              "      <th>1276</th>\n",
              "      <th>1277</th>\n",
              "      <th>1278</th>\n",
              "      <th>1279</th>\n",
              "      <th>1280</th>\n",
              "      <th>1281</th>\n",
              "      <th>1282</th>\n",
              "      <th>1283</th>\n",
              "      <th>1284</th>\n",
              "      <th>1285</th>\n",
              "      <th>1286</th>\n",
              "      <th>1287</th>\n",
              "      <th>1288</th>\n",
              "      <th>1289</th>\n",
              "      <th>1290</th>\n",
              "      <th>1291</th>\n",
              "      <th>1292</th>\n",
              "      <th>1293</th>\n",
              "      <th>1294</th>\n",
              "      <th>1295</th>\n",
              "      <th>1296</th>\n",
              "      <th>1297</th>\n",
              "      <th>1298</th>\n",
              "      <th>1299</th>\n",
              "      <th>1300</th>\n",
              "      <th>1301</th>\n",
              "      <th>1302</th>\n",
              "    </tr>\n",
              "  </thead>\n",
              "  <tbody>\n",
              "    <tr>\n",
              "      <th>laptop_ID</th>\n",
              "      <td>1</td>\n",
              "      <td>2</td>\n",
              "      <td>3</td>\n",
              "      <td>4</td>\n",
              "      <td>5</td>\n",
              "      <td>6</td>\n",
              "      <td>7</td>\n",
              "      <td>8</td>\n",
              "      <td>9</td>\n",
              "      <td>10</td>\n",
              "      <td>11</td>\n",
              "      <td>12</td>\n",
              "      <td>13</td>\n",
              "      <td>14</td>\n",
              "      <td>15</td>\n",
              "      <td>16</td>\n",
              "      <td>17</td>\n",
              "      <td>18</td>\n",
              "      <td>19</td>\n",
              "      <td>20</td>\n",
              "      <td>21</td>\n",
              "      <td>22</td>\n",
              "      <td>23</td>\n",
              "      <td>24</td>\n",
              "      <td>25</td>\n",
              "      <td>26</td>\n",
              "      <td>27</td>\n",
              "      <td>28</td>\n",
              "      <td>29</td>\n",
              "      <td>30</td>\n",
              "      <td>31</td>\n",
              "      <td>32</td>\n",
              "      <td>33</td>\n",
              "      <td>34</td>\n",
              "      <td>35</td>\n",
              "      <td>36</td>\n",
              "      <td>37</td>\n",
              "      <td>38</td>\n",
              "      <td>39</td>\n",
              "      <td>40</td>\n",
              "      <td>...</td>\n",
              "      <td>1281</td>\n",
              "      <td>1282</td>\n",
              "      <td>1283</td>\n",
              "      <td>1284</td>\n",
              "      <td>1285</td>\n",
              "      <td>1286</td>\n",
              "      <td>1287</td>\n",
              "      <td>1288</td>\n",
              "      <td>1289</td>\n",
              "      <td>1290</td>\n",
              "      <td>1291</td>\n",
              "      <td>1292</td>\n",
              "      <td>1293</td>\n",
              "      <td>1294</td>\n",
              "      <td>1295</td>\n",
              "      <td>1296</td>\n",
              "      <td>1297</td>\n",
              "      <td>1298</td>\n",
              "      <td>1299</td>\n",
              "      <td>1300</td>\n",
              "      <td>1301</td>\n",
              "      <td>1302</td>\n",
              "      <td>1303</td>\n",
              "      <td>1304</td>\n",
              "      <td>1305</td>\n",
              "      <td>1306</td>\n",
              "      <td>1307</td>\n",
              "      <td>1308</td>\n",
              "      <td>1309</td>\n",
              "      <td>1310</td>\n",
              "      <td>1311</td>\n",
              "      <td>1312</td>\n",
              "      <td>1313</td>\n",
              "      <td>1314</td>\n",
              "      <td>1315</td>\n",
              "      <td>1316</td>\n",
              "      <td>1317</td>\n",
              "      <td>1318</td>\n",
              "      <td>1319</td>\n",
              "      <td>1320</td>\n",
              "    </tr>\n",
              "    <tr>\n",
              "      <th>Company</th>\n",
              "      <td>Apple</td>\n",
              "      <td>Apple</td>\n",
              "      <td>HP</td>\n",
              "      <td>Apple</td>\n",
              "      <td>Apple</td>\n",
              "      <td>Acer</td>\n",
              "      <td>Apple</td>\n",
              "      <td>Apple</td>\n",
              "      <td>Asus</td>\n",
              "      <td>Acer</td>\n",
              "      <td>HP</td>\n",
              "      <td>HP</td>\n",
              "      <td>Apple</td>\n",
              "      <td>Dell</td>\n",
              "      <td>Apple</td>\n",
              "      <td>Apple</td>\n",
              "      <td>Dell</td>\n",
              "      <td>Apple</td>\n",
              "      <td>Lenovo</td>\n",
              "      <td>Dell</td>\n",
              "      <td>Asus</td>\n",
              "      <td>Lenovo</td>\n",
              "      <td>HP</td>\n",
              "      <td>Dell</td>\n",
              "      <td>HP</td>\n",
              "      <td>Dell</td>\n",
              "      <td>Apple</td>\n",
              "      <td>Dell</td>\n",
              "      <td>Dell</td>\n",
              "      <td>HP</td>\n",
              "      <td>Chuwi</td>\n",
              "      <td>Asus</td>\n",
              "      <td>HP</td>\n",
              "      <td>Dell</td>\n",
              "      <td>Apple</td>\n",
              "      <td>Lenovo</td>\n",
              "      <td>Acer</td>\n",
              "      <td>Dell</td>\n",
              "      <td>HP</td>\n",
              "      <td>HP</td>\n",
              "      <td>...</td>\n",
              "      <td>Acer</td>\n",
              "      <td>Dell</td>\n",
              "      <td>Lenovo</td>\n",
              "      <td>HP</td>\n",
              "      <td>Dell</td>\n",
              "      <td>HP</td>\n",
              "      <td>Asus</td>\n",
              "      <td>Lenovo</td>\n",
              "      <td>Lenovo</td>\n",
              "      <td>Lenovo</td>\n",
              "      <td>HP</td>\n",
              "      <td>Asus</td>\n",
              "      <td>Asus</td>\n",
              "      <td>Dell</td>\n",
              "      <td>Acer</td>\n",
              "      <td>Dell</td>\n",
              "      <td>Lenovo</td>\n",
              "      <td>HP</td>\n",
              "      <td>Dell</td>\n",
              "      <td>HP</td>\n",
              "      <td>Asus</td>\n",
              "      <td>Lenovo</td>\n",
              "      <td>Lenovo</td>\n",
              "      <td>Lenovo</td>\n",
              "      <td>HP</td>\n",
              "      <td>Asus</td>\n",
              "      <td>Asus</td>\n",
              "      <td>Dell</td>\n",
              "      <td>Acer</td>\n",
              "      <td>Dell</td>\n",
              "      <td>Lenovo</td>\n",
              "      <td>HP</td>\n",
              "      <td>Dell</td>\n",
              "      <td>HP</td>\n",
              "      <td>Asus</td>\n",
              "      <td>Lenovo</td>\n",
              "      <td>Lenovo</td>\n",
              "      <td>Lenovo</td>\n",
              "      <td>HP</td>\n",
              "      <td>Asus</td>\n",
              "    </tr>\n",
              "    <tr>\n",
              "      <th>Product</th>\n",
              "      <td>MacBook Pro</td>\n",
              "      <td>Macbook Air</td>\n",
              "      <td>250 G6</td>\n",
              "      <td>MacBook Pro</td>\n",
              "      <td>MacBook Pro</td>\n",
              "      <td>Aspire 3</td>\n",
              "      <td>MacBook Pro</td>\n",
              "      <td>Macbook Air</td>\n",
              "      <td>ZenBook UX430UN</td>\n",
              "      <td>Swift 3</td>\n",
              "      <td>250 G6</td>\n",
              "      <td>250 G6</td>\n",
              "      <td>MacBook Pro</td>\n",
              "      <td>Inspiron 3567</td>\n",
              "      <td>MacBook 12\"</td>\n",
              "      <td>MacBook Pro</td>\n",
              "      <td>Inspiron 3567</td>\n",
              "      <td>MacBook Pro</td>\n",
              "      <td>IdeaPad 320-15IKB</td>\n",
              "      <td>XPS 13</td>\n",
              "      <td>Vivobook E200HA</td>\n",
              "      <td>Legion Y520-15IKBN</td>\n",
              "      <td>255 G6</td>\n",
              "      <td>Inspiron 5379</td>\n",
              "      <td>15-BS101nv (i7-8550U/8GB/256GB/FHD/W10)</td>\n",
              "      <td>Inspiron 3567</td>\n",
              "      <td>MacBook Air</td>\n",
              "      <td>Inspiron 5570</td>\n",
              "      <td>Latitude 5590</td>\n",
              "      <td>ProBook 470</td>\n",
              "      <td>LapBook 15.6\"</td>\n",
              "      <td>E402WA-GA010T (E2-6110/2GB/32GB/W10)</td>\n",
              "      <td>17-ak001nv (A6-9220/4GB/500GB/Radeon</td>\n",
              "      <td>XPS 13</td>\n",
              "      <td>MacBook Air</td>\n",
              "      <td>IdeaPad 120S-14IAP</td>\n",
              "      <td>Aspire 3</td>\n",
              "      <td>Inspiron 5770</td>\n",
              "      <td>250 G6</td>\n",
              "      <td>ProBook 450</td>\n",
              "      <td>...</td>\n",
              "      <td>Aspire ES1-531</td>\n",
              "      <td>Inspiron 3552</td>\n",
              "      <td>IdeaPad Y700-15ISK</td>\n",
              "      <td>Pavilion 15-AW003nv</td>\n",
              "      <td>Inspiron 3567</td>\n",
              "      <td>Stream 11-Y000na</td>\n",
              "      <td>X556UJ-XO044T (i7-6500U/4GB/500GB/GeForce</td>\n",
              "      <td>Yoga 500-14ISK</td>\n",
              "      <td>Yoga 900-13ISK</td>\n",
              "      <td>IdeaPad 100S-14IBR</td>\n",
              "      <td>15-AC110nv (i7-6500U/6GB/1TB/Radeon</td>\n",
              "      <td>X553SA-XX031T (N3050/4GB/500GB/W10)</td>\n",
              "      <td>ZenBook UX305CA-UBM1</td>\n",
              "      <td>Inspiron 3567</td>\n",
              "      <td>Aspire ES1-531</td>\n",
              "      <td>Inspiron 3552</td>\n",
              "      <td>IdeaPad Y700-15ISK</td>\n",
              "      <td>Pavilion 15-AW003nv</td>\n",
              "      <td>Inspiron 3567</td>\n",
              "      <td>Stream 11-Y000na</td>\n",
              "      <td>X556UJ-XO044T (i7-6500U/4GB/500GB/GeForce</td>\n",
              "      <td>Yoga 500-14ISK</td>\n",
              "      <td>Yoga 900-13ISK</td>\n",
              "      <td>IdeaPad 100S-14IBR</td>\n",
              "      <td>15-AC110nv (i7-6500U/6GB/1TB/Radeon</td>\n",
              "      <td>X553SA-XX031T (N3050/4GB/500GB/W10)</td>\n",
              "      <td>ZenBook UX305CA-UBM1</td>\n",
              "      <td>Inspiron 3567</td>\n",
              "      <td>Aspire ES1-531</td>\n",
              "      <td>Inspiron 3552</td>\n",
              "      <td>IdeaPad Y700-15ISK</td>\n",
              "      <td>Pavilion 15-AW003nv</td>\n",
              "      <td>Inspiron 3567</td>\n",
              "      <td>Stream 11-Y000na</td>\n",
              "      <td>X556UJ-XO044T (i7-6500U/4GB/500GB/GeForce</td>\n",
              "      <td>Yoga 500-14ISK</td>\n",
              "      <td>Yoga 900-13ISK</td>\n",
              "      <td>IdeaPad 100S-14IBR</td>\n",
              "      <td>15-AC110nv (i7-6500U/6GB/1TB/Radeon</td>\n",
              "      <td>X553SA-XX031T (N3050/4GB/500GB/W10)</td>\n",
              "    </tr>\n",
              "    <tr>\n",
              "      <th>TypeName</th>\n",
              "      <td>Ultrabook</td>\n",
              "      <td>Ultrabook</td>\n",
              "      <td>Notebook</td>\n",
              "      <td>Ultrabook</td>\n",
              "      <td>Ultrabook</td>\n",
              "      <td>Notebook</td>\n",
              "      <td>Ultrabook</td>\n",
              "      <td>Ultrabook</td>\n",
              "      <td>Ultrabook</td>\n",
              "      <td>Ultrabook</td>\n",
              "      <td>Notebook</td>\n",
              "      <td>Notebook</td>\n",
              "      <td>Ultrabook</td>\n",
              "      <td>Notebook</td>\n",
              "      <td>Ultrabook</td>\n",
              "      <td>Ultrabook</td>\n",
              "      <td>Notebook</td>\n",
              "      <td>Ultrabook</td>\n",
              "      <td>Notebook</td>\n",
              "      <td>Ultrabook</td>\n",
              "      <td>Netbook</td>\n",
              "      <td>Gaming</td>\n",
              "      <td>Notebook</td>\n",
              "      <td>2 in 1 Convertible</td>\n",
              "      <td>Ultrabook</td>\n",
              "      <td>Notebook</td>\n",
              "      <td>Ultrabook</td>\n",
              "      <td>Notebook</td>\n",
              "      <td>Ultrabook</td>\n",
              "      <td>Notebook</td>\n",
              "      <td>Notebook</td>\n",
              "      <td>Notebook</td>\n",
              "      <td>Notebook</td>\n",
              "      <td>Ultrabook</td>\n",
              "      <td>Ultrabook</td>\n",
              "      <td>Notebook</td>\n",
              "      <td>Notebook</td>\n",
              "      <td>Notebook</td>\n",
              "      <td>Notebook</td>\n",
              "      <td>Notebook</td>\n",
              "      <td>...</td>\n",
              "      <td>Notebook</td>\n",
              "      <td>Notebook</td>\n",
              "      <td>Notebook</td>\n",
              "      <td>Notebook</td>\n",
              "      <td>Notebook</td>\n",
              "      <td>Netbook</td>\n",
              "      <td>Notebook</td>\n",
              "      <td>2 in 1 Convertible</td>\n",
              "      <td>2 in 1 Convertible</td>\n",
              "      <td>Notebook</td>\n",
              "      <td>Notebook</td>\n",
              "      <td>Notebook</td>\n",
              "      <td>Ultrabook</td>\n",
              "      <td>Notebook</td>\n",
              "      <td>Notebook</td>\n",
              "      <td>Notebook</td>\n",
              "      <td>Notebook</td>\n",
              "      <td>Notebook</td>\n",
              "      <td>Notebook</td>\n",
              "      <td>Netbook</td>\n",
              "      <td>Notebook</td>\n",
              "      <td>2 in 1 Convertible</td>\n",
              "      <td>2 in 1 Convertible</td>\n",
              "      <td>Notebook</td>\n",
              "      <td>Notebook</td>\n",
              "      <td>Notebook</td>\n",
              "      <td>Ultrabook</td>\n",
              "      <td>Notebook</td>\n",
              "      <td>Notebook</td>\n",
              "      <td>Notebook</td>\n",
              "      <td>Notebook</td>\n",
              "      <td>Notebook</td>\n",
              "      <td>Notebook</td>\n",
              "      <td>Netbook</td>\n",
              "      <td>Notebook</td>\n",
              "      <td>2 in 1 Convertible</td>\n",
              "      <td>2 in 1 Convertible</td>\n",
              "      <td>Notebook</td>\n",
              "      <td>Notebook</td>\n",
              "      <td>Notebook</td>\n",
              "    </tr>\n",
              "    <tr>\n",
              "      <th>Inches</th>\n",
              "      <td>13.3</td>\n",
              "      <td>13.3</td>\n",
              "      <td>15.6</td>\n",
              "      <td>15.4</td>\n",
              "      <td>13.3</td>\n",
              "      <td>15.6</td>\n",
              "      <td>15.4</td>\n",
              "      <td>13.3</td>\n",
              "      <td>14</td>\n",
              "      <td>14</td>\n",
              "      <td>15.6</td>\n",
              "      <td>15.6</td>\n",
              "      <td>15.4</td>\n",
              "      <td>15.6</td>\n",
              "      <td>12</td>\n",
              "      <td>13.3</td>\n",
              "      <td>15.6</td>\n",
              "      <td>15.4</td>\n",
              "      <td>15.6</td>\n",
              "      <td>13.3</td>\n",
              "      <td>11.6</td>\n",
              "      <td>15.6</td>\n",
              "      <td>15.6</td>\n",
              "      <td>13.3</td>\n",
              "      <td>15.6</td>\n",
              "      <td>15.6</td>\n",
              "      <td>13.3</td>\n",
              "      <td>15.6</td>\n",
              "      <td>15.6</td>\n",
              "      <td>17.3</td>\n",
              "      <td>15.6</td>\n",
              "      <td>14</td>\n",
              "      <td>17.3</td>\n",
              "      <td>13.3</td>\n",
              "      <td>13.3</td>\n",
              "      <td>14</td>\n",
              "      <td>15.6</td>\n",
              "      <td>17.3</td>\n",
              "      <td>15.6</td>\n",
              "      <td>15.6</td>\n",
              "      <td>...</td>\n",
              "      <td>15.6</td>\n",
              "      <td>15.6</td>\n",
              "      <td>15.6</td>\n",
              "      <td>15.6</td>\n",
              "      <td>15.6</td>\n",
              "      <td>11.6</td>\n",
              "      <td>15.6</td>\n",
              "      <td>14</td>\n",
              "      <td>13.3</td>\n",
              "      <td>14</td>\n",
              "      <td>15.6</td>\n",
              "      <td>15.6</td>\n",
              "      <td>13.3</td>\n",
              "      <td>15.6</td>\n",
              "      <td>15.6</td>\n",
              "      <td>15.6</td>\n",
              "      <td>15.6</td>\n",
              "      <td>15.6</td>\n",
              "      <td>15.6</td>\n",
              "      <td>11.6</td>\n",
              "      <td>15.6</td>\n",
              "      <td>14</td>\n",
              "      <td>13.3</td>\n",
              "      <td>14</td>\n",
              "      <td>15.6</td>\n",
              "      <td>15.6</td>\n",
              "      <td>13.3</td>\n",
              "      <td>15.6</td>\n",
              "      <td>15.6</td>\n",
              "      <td>15.6</td>\n",
              "      <td>15.6</td>\n",
              "      <td>15.6</td>\n",
              "      <td>15.6</td>\n",
              "      <td>11.6</td>\n",
              "      <td>15.6</td>\n",
              "      <td>14</td>\n",
              "      <td>13.3</td>\n",
              "      <td>14</td>\n",
              "      <td>15.6</td>\n",
              "      <td>15.6</td>\n",
              "    </tr>\n",
              "    <tr>\n",
              "      <th>ScreenResolution</th>\n",
              "      <td>IPS Panel Retina Display 2560x1600</td>\n",
              "      <td>1440x900</td>\n",
              "      <td>Full HD 1920x1080</td>\n",
              "      <td>IPS Panel Retina Display 2880x1800</td>\n",
              "      <td>IPS Panel Retina Display 2560x1600</td>\n",
              "      <td>1366x768</td>\n",
              "      <td>IPS Panel Retina Display 2880x1800</td>\n",
              "      <td>1440x900</td>\n",
              "      <td>Full HD 1920x1080</td>\n",
              "      <td>IPS Panel Full HD 1920x1080</td>\n",
              "      <td>1366x768</td>\n",
              "      <td>Full HD 1920x1080</td>\n",
              "      <td>IPS Panel Retina Display 2880x1800</td>\n",
              "      <td>Full HD 1920x1080</td>\n",
              "      <td>IPS Panel Retina Display 2304x1440</td>\n",
              "      <td>IPS Panel Retina Display 2560x1600</td>\n",
              "      <td>Full HD 1920x1080</td>\n",
              "      <td>IPS Panel Retina Display 2880x1800</td>\n",
              "      <td>Full HD 1920x1080</td>\n",
              "      <td>IPS Panel Full HD / Touchscreen 1920x1080</td>\n",
              "      <td>1366x768</td>\n",
              "      <td>IPS Panel Full HD 1920x1080</td>\n",
              "      <td>1366x768</td>\n",
              "      <td>Full HD / Touchscreen 1920x1080</td>\n",
              "      <td>Full HD 1920x1080</td>\n",
              "      <td>1366x768</td>\n",
              "      <td>1440x900</td>\n",
              "      <td>Full HD 1920x1080</td>\n",
              "      <td>Full HD 1920x1080</td>\n",
              "      <td>Full HD 1920x1080</td>\n",
              "      <td>Full HD 1920x1080</td>\n",
              "      <td>1366x768</td>\n",
              "      <td>Full HD 1920x1080</td>\n",
              "      <td>Touchscreen / Quad HD+ 3200x1800</td>\n",
              "      <td>1440x900</td>\n",
              "      <td>1366x768</td>\n",
              "      <td>1366x768</td>\n",
              "      <td>IPS Panel Full HD 1920x1080</td>\n",
              "      <td>1366x768</td>\n",
              "      <td>Full HD 1920x1080</td>\n",
              "      <td>...</td>\n",
              "      <td>1366x768</td>\n",
              "      <td>1366x768</td>\n",
              "      <td>IPS Panel Full HD 1920x1080</td>\n",
              "      <td>Full HD 1920x1080</td>\n",
              "      <td>1366x768</td>\n",
              "      <td>1366x768</td>\n",
              "      <td>1366x768</td>\n",
              "      <td>IPS Panel Full HD / Touchscreen 1920x1080</td>\n",
              "      <td>IPS Panel Quad HD+ / Touchscreen 3200x1800</td>\n",
              "      <td>1366x768</td>\n",
              "      <td>1366x768</td>\n",
              "      <td>1366x768</td>\n",
              "      <td>IPS Panel Full HD 1920x1080</td>\n",
              "      <td>1366x768</td>\n",
              "      <td>1366x768</td>\n",
              "      <td>1366x768</td>\n",
              "      <td>IPS Panel Full HD 1920x1080</td>\n",
              "      <td>Full HD 1920x1080</td>\n",
              "      <td>1366x768</td>\n",
              "      <td>1366x768</td>\n",
              "      <td>1366x768</td>\n",
              "      <td>IPS Panel Full HD / Touchscreen 1920x1080</td>\n",
              "      <td>IPS Panel Quad HD+ / Touchscreen 3200x1800</td>\n",
              "      <td>1366x768</td>\n",
              "      <td>1366x768</td>\n",
              "      <td>1366x768</td>\n",
              "      <td>IPS Panel Full HD 1920x1080</td>\n",
              "      <td>1366x768</td>\n",
              "      <td>1366x768</td>\n",
              "      <td>1366x768</td>\n",
              "      <td>IPS Panel Full HD 1920x1080</td>\n",
              "      <td>Full HD 1920x1080</td>\n",
              "      <td>1366x768</td>\n",
              "      <td>1366x768</td>\n",
              "      <td>1366x768</td>\n",
              "      <td>IPS Panel Full HD / Touchscreen 1920x1080</td>\n",
              "      <td>IPS Panel Quad HD+ / Touchscreen 3200x1800</td>\n",
              "      <td>1366x768</td>\n",
              "      <td>1366x768</td>\n",
              "      <td>1366x768</td>\n",
              "    </tr>\n",
              "    <tr>\n",
              "      <th>Cpu</th>\n",
              "      <td>Intel Core i5 2.3GHz</td>\n",
              "      <td>Intel Core i5 1.8GHz</td>\n",
              "      <td>Intel Core i5 7200U 2.5GHz</td>\n",
              "      <td>Intel Core i7 2.7GHz</td>\n",
              "      <td>Intel Core i5 3.1GHz</td>\n",
              "      <td>AMD A9-Series 9420 3GHz</td>\n",
              "      <td>Intel Core i7 2.2GHz</td>\n",
              "      <td>Intel Core i5 1.8GHz</td>\n",
              "      <td>Intel Core i7 8550U 1.8GHz</td>\n",
              "      <td>Intel Core i5 8250U 1.6GHz</td>\n",
              "      <td>Intel Core i5 7200U 2.5GHz</td>\n",
              "      <td>Intel Core i3 6006U 2GHz</td>\n",
              "      <td>Intel Core i7 2.8GHz</td>\n",
              "      <td>Intel Core i3 6006U 2GHz</td>\n",
              "      <td>Intel Core M m3 1.2GHz</td>\n",
              "      <td>Intel Core i5 2.3GHz</td>\n",
              "      <td>Intel Core i7 7500U 2.7GHz</td>\n",
              "      <td>Intel Core i7 2.9GHz</td>\n",
              "      <td>Intel Core i3 7100U 2.4GHz</td>\n",
              "      <td>Intel Core i5 8250U 1.6GHz</td>\n",
              "      <td>Intel Atom x5-Z8350 1.44GHz</td>\n",
              "      <td>Intel Core i5 7300HQ 2.5GHz</td>\n",
              "      <td>AMD E-Series E2-9000e 1.5GHz</td>\n",
              "      <td>Intel Core i5 8250U 1.6GHz</td>\n",
              "      <td>Intel Core i7 8550U 1.8GHz</td>\n",
              "      <td>Intel Core i3 6006U 2GHz</td>\n",
              "      <td>Intel Core i5 1.6GHz</td>\n",
              "      <td>Intel Core i5 8250U 1.6GHz</td>\n",
              "      <td>Intel Core i7 8650U 1.9GHz</td>\n",
              "      <td>Intel Core i5 8250U 1.6GHz</td>\n",
              "      <td>Intel Atom x5-Z8300 1.44GHz</td>\n",
              "      <td>AMD E-Series E2-6110 1.5GHz</td>\n",
              "      <td>AMD A6-Series 9220 2.5GHz</td>\n",
              "      <td>Intel Core i7 8550U 1.8GHz</td>\n",
              "      <td>Intel Core i5 1.6GHz</td>\n",
              "      <td>Intel Celeron Dual Core N3350 1.1GHz</td>\n",
              "      <td>Intel Core i3 7130U 2.7GHz</td>\n",
              "      <td>Intel Core i5 8250U 1.6GHz</td>\n",
              "      <td>Intel Core i5 7200U 2.5GHz</td>\n",
              "      <td>Intel Core i5 8250U 1.6GHz</td>\n",
              "      <td>...</td>\n",
              "      <td>Intel Celeron Dual Core N3060 1.6GHz</td>\n",
              "      <td>Intel Celeron Dual Core N3050 1.6GHz</td>\n",
              "      <td>Intel Core i7 6700HQ 2.6GHz</td>\n",
              "      <td>AMD A9-Series 9410 2.9GHz</td>\n",
              "      <td>Intel Core i7 7500U 2.7GHz</td>\n",
              "      <td>Intel Celeron Dual Core N3060 1.6GHz</td>\n",
              "      <td>Intel Core i7 6500U 2.5GHz</td>\n",
              "      <td>Intel Core i7 6500U 2.5GHz</td>\n",
              "      <td>Intel Core i7 6500U 2.5GHz</td>\n",
              "      <td>Intel Celeron Dual Core N3050 1.6GHz</td>\n",
              "      <td>Intel Core i7 6500U 2.5GHz</td>\n",
              "      <td>Intel Celeron Dual Core N3050 1.6GHz</td>\n",
              "      <td>Intel Core M 6Y30 0.9GHz</td>\n",
              "      <td>Intel Core i3 7100U 2.4GHz</td>\n",
              "      <td>Intel Celeron Dual Core N3060 1.6GHz</td>\n",
              "      <td>Intel Celeron Dual Core N3050 1.6GHz</td>\n",
              "      <td>Intel Core i7 6700HQ 2.6GHz</td>\n",
              "      <td>AMD A9-Series 9410 2.9GHz</td>\n",
              "      <td>Intel Core i7 7500U 2.7GHz</td>\n",
              "      <td>Intel Celeron Dual Core N3060 1.6GHz</td>\n",
              "      <td>Intel Core i7 6500U 2.5GHz</td>\n",
              "      <td>Intel Core i7 6500U 2.5GHz</td>\n",
              "      <td>Intel Core i7 6500U 2.5GHz</td>\n",
              "      <td>Intel Celeron Dual Core N3050 1.6GHz</td>\n",
              "      <td>Intel Core i7 6500U 2.5GHz</td>\n",
              "      <td>Intel Celeron Dual Core N3050 1.6GHz</td>\n",
              "      <td>Intel Core M 6Y30 0.9GHz</td>\n",
              "      <td>Intel Core i3 7100U 2.4GHz</td>\n",
              "      <td>Intel Celeron Dual Core N3060 1.6GHz</td>\n",
              "      <td>Intel Celeron Dual Core N3050 1.6GHz</td>\n",
              "      <td>Intel Core i7 6700HQ 2.6GHz</td>\n",
              "      <td>AMD A9-Series 9410 2.9GHz</td>\n",
              "      <td>Intel Core i7 7500U 2.7GHz</td>\n",
              "      <td>Intel Celeron Dual Core N3060 1.6GHz</td>\n",
              "      <td>Intel Core i7 6500U 2.5GHz</td>\n",
              "      <td>Intel Core i7 6500U 2.5GHz</td>\n",
              "      <td>Intel Core i7 6500U 2.5GHz</td>\n",
              "      <td>Intel Celeron Dual Core N3050 1.6GHz</td>\n",
              "      <td>Intel Core i7 6500U 2.5GHz</td>\n",
              "      <td>Intel Celeron Dual Core N3050 1.6GHz</td>\n",
              "    </tr>\n",
              "    <tr>\n",
              "      <th>Ram</th>\n",
              "      <td>8GB</td>\n",
              "      <td>8GB</td>\n",
              "      <td>8GB</td>\n",
              "      <td>16GB</td>\n",
              "      <td>8GB</td>\n",
              "      <td>4GB</td>\n",
              "      <td>16GB</td>\n",
              "      <td>8GB</td>\n",
              "      <td>16GB</td>\n",
              "      <td>8GB</td>\n",
              "      <td>4GB</td>\n",
              "      <td>4GB</td>\n",
              "      <td>16GB</td>\n",
              "      <td>4GB</td>\n",
              "      <td>8GB</td>\n",
              "      <td>8GB</td>\n",
              "      <td>8GB</td>\n",
              "      <td>16GB</td>\n",
              "      <td>8GB</td>\n",
              "      <td>8GB</td>\n",
              "      <td>2GB</td>\n",
              "      <td>8GB</td>\n",
              "      <td>4GB</td>\n",
              "      <td>8GB</td>\n",
              "      <td>8GB</td>\n",
              "      <td>4GB</td>\n",
              "      <td>8GB</td>\n",
              "      <td>8GB</td>\n",
              "      <td>8GB</td>\n",
              "      <td>8GB</td>\n",
              "      <td>4GB</td>\n",
              "      <td>2GB</td>\n",
              "      <td>4GB</td>\n",
              "      <td>16GB</td>\n",
              "      <td>8GB</td>\n",
              "      <td>4GB</td>\n",
              "      <td>4GB</td>\n",
              "      <td>8GB</td>\n",
              "      <td>4GB</td>\n",
              "      <td>8GB</td>\n",
              "      <td>...</td>\n",
              "      <td>4GB</td>\n",
              "      <td>2GB</td>\n",
              "      <td>8GB</td>\n",
              "      <td>6GB</td>\n",
              "      <td>8GB</td>\n",
              "      <td>2GB</td>\n",
              "      <td>4GB</td>\n",
              "      <td>4GB</td>\n",
              "      <td>16GB</td>\n",
              "      <td>2GB</td>\n",
              "      <td>6GB</td>\n",
              "      <td>4GB</td>\n",
              "      <td>8GB</td>\n",
              "      <td>6GB</td>\n",
              "      <td>4GB</td>\n",
              "      <td>2GB</td>\n",
              "      <td>8GB</td>\n",
              "      <td>6GB</td>\n",
              "      <td>8GB</td>\n",
              "      <td>2GB</td>\n",
              "      <td>4GB</td>\n",
              "      <td>4GB</td>\n",
              "      <td>16GB</td>\n",
              "      <td>2GB</td>\n",
              "      <td>6GB</td>\n",
              "      <td>4GB</td>\n",
              "      <td>8GB</td>\n",
              "      <td>6GB</td>\n",
              "      <td>4GB</td>\n",
              "      <td>2GB</td>\n",
              "      <td>8GB</td>\n",
              "      <td>6GB</td>\n",
              "      <td>8GB</td>\n",
              "      <td>2GB</td>\n",
              "      <td>4GB</td>\n",
              "      <td>4GB</td>\n",
              "      <td>16GB</td>\n",
              "      <td>2GB</td>\n",
              "      <td>6GB</td>\n",
              "      <td>4GB</td>\n",
              "    </tr>\n",
              "    <tr>\n",
              "      <th>Memory</th>\n",
              "      <td>128GB SSD</td>\n",
              "      <td>128GB Flash Storage</td>\n",
              "      <td>256GB SSD</td>\n",
              "      <td>512GB SSD</td>\n",
              "      <td>256GB SSD</td>\n",
              "      <td>500GB HDD</td>\n",
              "      <td>256GB Flash Storage</td>\n",
              "      <td>256GB Flash Storage</td>\n",
              "      <td>512GB SSD</td>\n",
              "      <td>256GB SSD</td>\n",
              "      <td>500GB HDD</td>\n",
              "      <td>500GB HDD</td>\n",
              "      <td>256GB SSD</td>\n",
              "      <td>256GB SSD</td>\n",
              "      <td>256GB SSD</td>\n",
              "      <td>256GB SSD</td>\n",
              "      <td>256GB SSD</td>\n",
              "      <td>512GB SSD</td>\n",
              "      <td>1TB HDD</td>\n",
              "      <td>128GB SSD</td>\n",
              "      <td>32GB Flash Storage</td>\n",
              "      <td>128GB SSD +  1TB HDD</td>\n",
              "      <td>500GB HDD</td>\n",
              "      <td>256GB SSD</td>\n",
              "      <td>256GB SSD</td>\n",
              "      <td>1TB HDD</td>\n",
              "      <td>128GB Flash Storage</td>\n",
              "      <td>256GB SSD</td>\n",
              "      <td>256GB SSD +  256GB SSD</td>\n",
              "      <td>1TB HDD</td>\n",
              "      <td>64GB Flash Storage</td>\n",
              "      <td>32GB Flash Storage</td>\n",
              "      <td>500GB HDD</td>\n",
              "      <td>512GB SSD</td>\n",
              "      <td>256GB Flash Storage</td>\n",
              "      <td>64GB Flash Storage</td>\n",
              "      <td>1TB HDD</td>\n",
              "      <td>128GB SSD +  1TB HDD</td>\n",
              "      <td>1TB HDD</td>\n",
              "      <td>256GB SSD</td>\n",
              "      <td>...</td>\n",
              "      <td>500GB HDD</td>\n",
              "      <td>500GB HDD</td>\n",
              "      <td>1TB HDD</td>\n",
              "      <td>1.0TB Hybrid</td>\n",
              "      <td>1TB HDD</td>\n",
              "      <td>32GB Flash Storage</td>\n",
              "      <td>500GB HDD</td>\n",
              "      <td>128GB SSD</td>\n",
              "      <td>512GB SSD</td>\n",
              "      <td>64GB Flash Storage</td>\n",
              "      <td>1TB HDD</td>\n",
              "      <td>500GB HDD</td>\n",
              "      <td>512GB SSD</td>\n",
              "      <td>1TB HDD</td>\n",
              "      <td>500GB HDD</td>\n",
              "      <td>500GB HDD</td>\n",
              "      <td>1TB HDD</td>\n",
              "      <td>1.0TB Hybrid</td>\n",
              "      <td>1TB HDD</td>\n",
              "      <td>32GB Flash Storage</td>\n",
              "      <td>500GB HDD</td>\n",
              "      <td>128GB SSD</td>\n",
              "      <td>512GB SSD</td>\n",
              "      <td>64GB Flash Storage</td>\n",
              "      <td>1TB HDD</td>\n",
              "      <td>500GB HDD</td>\n",
              "      <td>512GB SSD</td>\n",
              "      <td>1TB HDD</td>\n",
              "      <td>500GB HDD</td>\n",
              "      <td>500GB HDD</td>\n",
              "      <td>1TB HDD</td>\n",
              "      <td>1.0TB Hybrid</td>\n",
              "      <td>1TB HDD</td>\n",
              "      <td>32GB Flash Storage</td>\n",
              "      <td>500GB HDD</td>\n",
              "      <td>128GB SSD</td>\n",
              "      <td>512GB SSD</td>\n",
              "      <td>64GB Flash Storage</td>\n",
              "      <td>1TB HDD</td>\n",
              "      <td>500GB HDD</td>\n",
              "    </tr>\n",
              "    <tr>\n",
              "      <th>Gpu</th>\n",
              "      <td>Intel Iris Plus Graphics 640</td>\n",
              "      <td>Intel HD Graphics 6000</td>\n",
              "      <td>Intel HD Graphics 620</td>\n",
              "      <td>AMD Radeon Pro 455</td>\n",
              "      <td>Intel Iris Plus Graphics 650</td>\n",
              "      <td>AMD Radeon R5</td>\n",
              "      <td>Intel Iris Pro Graphics</td>\n",
              "      <td>Intel HD Graphics 6000</td>\n",
              "      <td>Nvidia GeForce MX150</td>\n",
              "      <td>Intel UHD Graphics 620</td>\n",
              "      <td>Intel HD Graphics 620</td>\n",
              "      <td>Intel HD Graphics 520</td>\n",
              "      <td>AMD Radeon Pro 555</td>\n",
              "      <td>AMD Radeon R5 M430</td>\n",
              "      <td>Intel HD Graphics 615</td>\n",
              "      <td>Intel Iris Plus Graphics 640</td>\n",
              "      <td>AMD Radeon R5 M430</td>\n",
              "      <td>AMD Radeon Pro 560</td>\n",
              "      <td>Nvidia GeForce 940MX</td>\n",
              "      <td>Intel UHD Graphics 620</td>\n",
              "      <td>Intel HD Graphics 400</td>\n",
              "      <td>Nvidia GeForce GTX 1050</td>\n",
              "      <td>AMD Radeon R2</td>\n",
              "      <td>Intel UHD Graphics 620</td>\n",
              "      <td>Intel HD Graphics 620</td>\n",
              "      <td>Intel HD Graphics 520</td>\n",
              "      <td>Intel HD Graphics 6000</td>\n",
              "      <td>AMD Radeon 530</td>\n",
              "      <td>Intel UHD Graphics 620</td>\n",
              "      <td>Nvidia GeForce 930MX</td>\n",
              "      <td>Intel HD Graphics</td>\n",
              "      <td>AMD Radeon R2</td>\n",
              "      <td>AMD Radeon 530</td>\n",
              "      <td>Intel UHD Graphics 620</td>\n",
              "      <td>Intel HD Graphics 6000</td>\n",
              "      <td>Intel HD Graphics 500</td>\n",
              "      <td>Intel HD Graphics 620</td>\n",
              "      <td>AMD Radeon 530</td>\n",
              "      <td>Intel HD Graphics 620</td>\n",
              "      <td>Nvidia GeForce 930MX</td>\n",
              "      <td>...</td>\n",
              "      <td>Intel HD Graphics 400</td>\n",
              "      <td>Intel HD Graphics</td>\n",
              "      <td>Nvidia GeForce GTX 960M</td>\n",
              "      <td>AMD Radeon R7 M440</td>\n",
              "      <td>AMD Radeon R5 M430</td>\n",
              "      <td>Intel HD Graphics 400</td>\n",
              "      <td>Nvidia GeForce 920M</td>\n",
              "      <td>Intel HD Graphics 520</td>\n",
              "      <td>Intel HD Graphics 520</td>\n",
              "      <td>Intel HD Graphics</td>\n",
              "      <td>AMD Radeon R5 M330</td>\n",
              "      <td>Intel HD Graphics</td>\n",
              "      <td>Intel HD Graphics 515</td>\n",
              "      <td>Intel HD Graphics 620</td>\n",
              "      <td>Intel HD Graphics 400</td>\n",
              "      <td>Intel HD Graphics</td>\n",
              "      <td>Nvidia GeForce GTX 960M</td>\n",
              "      <td>AMD Radeon R7 M440</td>\n",
              "      <td>AMD Radeon R5 M430</td>\n",
              "      <td>Intel HD Graphics 400</td>\n",
              "      <td>Nvidia GeForce 920M</td>\n",
              "      <td>Intel HD Graphics 520</td>\n",
              "      <td>Intel HD Graphics 520</td>\n",
              "      <td>Intel HD Graphics</td>\n",
              "      <td>AMD Radeon R5 M330</td>\n",
              "      <td>Intel HD Graphics</td>\n",
              "      <td>Intel HD Graphics 515</td>\n",
              "      <td>Intel HD Graphics 620</td>\n",
              "      <td>Intel HD Graphics 400</td>\n",
              "      <td>Intel HD Graphics</td>\n",
              "      <td>Nvidia GeForce GTX 960M</td>\n",
              "      <td>AMD Radeon R7 M440</td>\n",
              "      <td>AMD Radeon R5 M430</td>\n",
              "      <td>Intel HD Graphics 400</td>\n",
              "      <td>Nvidia GeForce 920M</td>\n",
              "      <td>Intel HD Graphics 520</td>\n",
              "      <td>Intel HD Graphics 520</td>\n",
              "      <td>Intel HD Graphics</td>\n",
              "      <td>AMD Radeon R5 M330</td>\n",
              "      <td>Intel HD Graphics</td>\n",
              "    </tr>\n",
              "    <tr>\n",
              "      <th>OpSys</th>\n",
              "      <td>macOS</td>\n",
              "      <td>macOS</td>\n",
              "      <td>No OS</td>\n",
              "      <td>macOS</td>\n",
              "      <td>macOS</td>\n",
              "      <td>Windows 10</td>\n",
              "      <td>Mac OS X</td>\n",
              "      <td>macOS</td>\n",
              "      <td>Windows 10</td>\n",
              "      <td>Windows 10</td>\n",
              "      <td>No OS</td>\n",
              "      <td>No OS</td>\n",
              "      <td>macOS</td>\n",
              "      <td>Windows 10</td>\n",
              "      <td>macOS</td>\n",
              "      <td>macOS</td>\n",
              "      <td>Windows 10</td>\n",
              "      <td>macOS</td>\n",
              "      <td>No OS</td>\n",
              "      <td>Windows 10</td>\n",
              "      <td>Windows 10</td>\n",
              "      <td>Windows 10</td>\n",
              "      <td>No OS</td>\n",
              "      <td>Windows 10</td>\n",
              "      <td>Windows 10</td>\n",
              "      <td>Windows 10</td>\n",
              "      <td>Mac OS X</td>\n",
              "      <td>Windows 10</td>\n",
              "      <td>Windows 10</td>\n",
              "      <td>Windows 10</td>\n",
              "      <td>Windows 10</td>\n",
              "      <td>Windows 10</td>\n",
              "      <td>Windows 10</td>\n",
              "      <td>Windows 10</td>\n",
              "      <td>Mac OS X</td>\n",
              "      <td>Windows 10</td>\n",
              "      <td>Linux</td>\n",
              "      <td>Windows 10</td>\n",
              "      <td>Windows 10</td>\n",
              "      <td>Windows 10</td>\n",
              "      <td>...</td>\n",
              "      <td>Linux</td>\n",
              "      <td>Windows 10</td>\n",
              "      <td>Windows 10</td>\n",
              "      <td>Windows 10</td>\n",
              "      <td>Linux</td>\n",
              "      <td>Windows 10</td>\n",
              "      <td>Windows 10</td>\n",
              "      <td>Windows 10</td>\n",
              "      <td>Windows 10</td>\n",
              "      <td>Windows 10</td>\n",
              "      <td>Windows 10</td>\n",
              "      <td>Windows 10</td>\n",
              "      <td>Windows 10</td>\n",
              "      <td>Windows 10</td>\n",
              "      <td>Linux</td>\n",
              "      <td>Windows 10</td>\n",
              "      <td>Windows 10</td>\n",
              "      <td>Windows 10</td>\n",
              "      <td>Linux</td>\n",
              "      <td>Windows 10</td>\n",
              "      <td>Windows 10</td>\n",
              "      <td>Windows 10</td>\n",
              "      <td>Windows 10</td>\n",
              "      <td>Windows 10</td>\n",
              "      <td>Windows 10</td>\n",
              "      <td>Windows 10</td>\n",
              "      <td>Windows 10</td>\n",
              "      <td>Windows 10</td>\n",
              "      <td>Linux</td>\n",
              "      <td>Windows 10</td>\n",
              "      <td>Windows 10</td>\n",
              "      <td>Windows 10</td>\n",
              "      <td>Linux</td>\n",
              "      <td>Windows 10</td>\n",
              "      <td>Windows 10</td>\n",
              "      <td>Windows 10</td>\n",
              "      <td>Windows 10</td>\n",
              "      <td>Windows 10</td>\n",
              "      <td>Windows 10</td>\n",
              "      <td>Windows 10</td>\n",
              "    </tr>\n",
              "    <tr>\n",
              "      <th>Weight</th>\n",
              "      <td>1.37kg</td>\n",
              "      <td>1.34kg</td>\n",
              "      <td>1.86kg</td>\n",
              "      <td>1.83kg</td>\n",
              "      <td>1.37kg</td>\n",
              "      <td>2.1kg</td>\n",
              "      <td>2.04kg</td>\n",
              "      <td>1.34kg</td>\n",
              "      <td>1.3kg</td>\n",
              "      <td>1.6kg</td>\n",
              "      <td>1.86kg</td>\n",
              "      <td>1.86kg</td>\n",
              "      <td>1.83kg</td>\n",
              "      <td>2.2kg</td>\n",
              "      <td>0.92kg</td>\n",
              "      <td>1.37kg</td>\n",
              "      <td>2.2kg</td>\n",
              "      <td>1.83kg</td>\n",
              "      <td>2.2kg</td>\n",
              "      <td>1.22kg</td>\n",
              "      <td>0.98kg</td>\n",
              "      <td>2.5kg</td>\n",
              "      <td>1.86kg</td>\n",
              "      <td>1.62kg</td>\n",
              "      <td>1.91kg</td>\n",
              "      <td>2.3kg</td>\n",
              "      <td>1.35kg</td>\n",
              "      <td>2.2kg</td>\n",
              "      <td>1.88kg</td>\n",
              "      <td>2.5kg</td>\n",
              "      <td>1.89kg</td>\n",
              "      <td>1.65kg</td>\n",
              "      <td>2.71kg</td>\n",
              "      <td>1.2kg</td>\n",
              "      <td>1.35kg</td>\n",
              "      <td>1.44kg</td>\n",
              "      <td>2.1kg</td>\n",
              "      <td>2.8kg</td>\n",
              "      <td>1.86kg</td>\n",
              "      <td>2.1kg</td>\n",
              "      <td>...</td>\n",
              "      <td>2.4kg</td>\n",
              "      <td>2.20kg</td>\n",
              "      <td>2.6kg</td>\n",
              "      <td>2.04kg</td>\n",
              "      <td>2.3kg</td>\n",
              "      <td>1.17kg</td>\n",
              "      <td>2.2kg</td>\n",
              "      <td>1.8kg</td>\n",
              "      <td>1.3kg</td>\n",
              "      <td>1.5kg</td>\n",
              "      <td>2.19kg</td>\n",
              "      <td>2.2kg</td>\n",
              "      <td>1.2kg</td>\n",
              "      <td>2.3kg</td>\n",
              "      <td>2.4kg</td>\n",
              "      <td>2.20kg</td>\n",
              "      <td>2.6kg</td>\n",
              "      <td>2.04kg</td>\n",
              "      <td>2.3kg</td>\n",
              "      <td>1.17kg</td>\n",
              "      <td>2.2kg</td>\n",
              "      <td>1.8kg</td>\n",
              "      <td>1.3kg</td>\n",
              "      <td>1.5kg</td>\n",
              "      <td>2.19kg</td>\n",
              "      <td>2.2kg</td>\n",
              "      <td>1.2kg</td>\n",
              "      <td>2.3kg</td>\n",
              "      <td>2.4kg</td>\n",
              "      <td>2.20kg</td>\n",
              "      <td>2.6kg</td>\n",
              "      <td>2.04kg</td>\n",
              "      <td>2.3kg</td>\n",
              "      <td>1.17kg</td>\n",
              "      <td>2.2kg</td>\n",
              "      <td>1.8kg</td>\n",
              "      <td>1.3kg</td>\n",
              "      <td>1.5kg</td>\n",
              "      <td>2.19kg</td>\n",
              "      <td>2.2kg</td>\n",
              "    </tr>\n",
              "    <tr>\n",
              "      <th>Price_euros</th>\n",
              "      <td>1339.69</td>\n",
              "      <td>898.94</td>\n",
              "      <td>575</td>\n",
              "      <td>2537.45</td>\n",
              "      <td>1803.6</td>\n",
              "      <td>400</td>\n",
              "      <td>2139.97</td>\n",
              "      <td>1158.7</td>\n",
              "      <td>1495</td>\n",
              "      <td>770</td>\n",
              "      <td>393.9</td>\n",
              "      <td>344.99</td>\n",
              "      <td>2439.97</td>\n",
              "      <td>498.9</td>\n",
              "      <td>1262.4</td>\n",
              "      <td>1518.55</td>\n",
              "      <td>745</td>\n",
              "      <td>2858</td>\n",
              "      <td>499</td>\n",
              "      <td>979</td>\n",
              "      <td>191.9</td>\n",
              "      <td>999</td>\n",
              "      <td>258</td>\n",
              "      <td>819</td>\n",
              "      <td>659</td>\n",
              "      <td>418.64</td>\n",
              "      <td>1099</td>\n",
              "      <td>800</td>\n",
              "      <td>1298</td>\n",
              "      <td>896</td>\n",
              "      <td>244.99</td>\n",
              "      <td>199</td>\n",
              "      <td>439</td>\n",
              "      <td>1869</td>\n",
              "      <td>998</td>\n",
              "      <td>249</td>\n",
              "      <td>367</td>\n",
              "      <td>979</td>\n",
              "      <td>488.69</td>\n",
              "      <td>879</td>\n",
              "      <td>...</td>\n",
              "      <td>289</td>\n",
              "      <td>379</td>\n",
              "      <td>899</td>\n",
              "      <td>549.99</td>\n",
              "      <td>805.99</td>\n",
              "      <td>209</td>\n",
              "      <td>720.32</td>\n",
              "      <td>638</td>\n",
              "      <td>1499</td>\n",
              "      <td>229</td>\n",
              "      <td>764</td>\n",
              "      <td>369</td>\n",
              "      <td>729</td>\n",
              "      <td>459</td>\n",
              "      <td>289</td>\n",
              "      <td>379</td>\n",
              "      <td>899</td>\n",
              "      <td>549.99</td>\n",
              "      <td>805.99</td>\n",
              "      <td>209</td>\n",
              "      <td>720.32</td>\n",
              "      <td>638</td>\n",
              "      <td>1499</td>\n",
              "      <td>229</td>\n",
              "      <td>764</td>\n",
              "      <td>369</td>\n",
              "      <td>729</td>\n",
              "      <td>459</td>\n",
              "      <td>289</td>\n",
              "      <td>379</td>\n",
              "      <td>899</td>\n",
              "      <td>549.99</td>\n",
              "      <td>805.99</td>\n",
              "      <td>209</td>\n",
              "      <td>720.32</td>\n",
              "      <td>638</td>\n",
              "      <td>1499</td>\n",
              "      <td>229</td>\n",
              "      <td>764</td>\n",
              "      <td>369</td>\n",
              "    </tr>\n",
              "  </tbody>\n",
              "</table>\n",
              "<p>13 rows × 1303 columns</p>\n",
              "</div>"
            ],
            "text/plain": [
              "                                                0     ...                                  1302\n",
              "laptop_ID                                          1  ...                                  1320\n",
              "Company                                        Apple  ...                                  Asus\n",
              "Product                                  MacBook Pro  ...   X553SA-XX031T (N3050/4GB/500GB/W10)\n",
              "TypeName                                   Ultrabook  ...                              Notebook\n",
              "Inches                                          13.3  ...                                  15.6\n",
              "ScreenResolution  IPS Panel Retina Display 2560x1600  ...                              1366x768\n",
              "Cpu                             Intel Core i5 2.3GHz  ...  Intel Celeron Dual Core N3050 1.6GHz\n",
              "Ram                                              8GB  ...                                   4GB\n",
              "Memory                                     128GB SSD  ...                             500GB HDD\n",
              "Gpu                     Intel Iris Plus Graphics 640  ...                     Intel HD Graphics\n",
              "OpSys                                          macOS  ...                            Windows 10\n",
              "Weight                                        1.37kg  ...                                 2.2kg\n",
              "Price_euros                                  1339.69  ...                                   369\n",
              "\n",
              "[13 rows x 1303 columns]"
            ]
          },
          "metadata": {
            "tags": []
          },
          "execution_count": 652
        }
      ]
    },
    {
      "cell_type": "code",
      "metadata": {
        "colab": {
          "base_uri": "https://localhost:8080/"
        },
        "id": "SBlgP5ciYaSa",
        "outputId": "5e41751b-53f3-404a-aa9e-5dace8bb890b"
      },
      "source": [
        "df.info(null_counts=True) "
      ],
      "execution_count": 653,
      "outputs": [
        {
          "output_type": "stream",
          "text": [
            "<class 'pandas.core.frame.DataFrame'>\n",
            "RangeIndex: 1303 entries, 0 to 1302\n",
            "Data columns (total 13 columns):\n",
            " #   Column            Non-Null Count  Dtype  \n",
            "---  ------            --------------  -----  \n",
            " 0   laptop_ID         1303 non-null   int64  \n",
            " 1   Company           1303 non-null   object \n",
            " 2   Product           1303 non-null   object \n",
            " 3   TypeName          1303 non-null   object \n",
            " 4   Inches            1303 non-null   float64\n",
            " 5   ScreenResolution  1303 non-null   object \n",
            " 6   Cpu               1303 non-null   object \n",
            " 7   Ram               1303 non-null   object \n",
            " 8   Memory            1303 non-null   object \n",
            " 9   Gpu               1303 non-null   object \n",
            " 10  OpSys             1303 non-null   object \n",
            " 11  Weight            1303 non-null   object \n",
            " 12  Price_euros       1303 non-null   float64\n",
            "dtypes: float64(2), int64(1), object(10)\n",
            "memory usage: 132.5+ KB\n"
          ],
          "name": "stdout"
        }
      ]
    },
    {
      "cell_type": "code",
      "metadata": {
        "colab": {
          "base_uri": "https://localhost:8080/"
        },
        "id": "YBE-OyANYhoK",
        "outputId": "95d367e0-86c2-4cab-d639-4256fd856297"
      },
      "source": [
        "col = list(df.columns)\n",
        "for column in col: #.split():\n",
        "    print(column, ':')\n",
        "#    df[column] = df[column].str.strip()\n",
        "    print(df[column].value_counts())\n",
        "    print()\n",
        "\n",
        "    \"\"\" Product, Screen Resolution, CPU, Weight \"\"\""
      ],
      "execution_count": 654,
      "outputs": [
        {
          "output_type": "stream",
          "text": [
            "laptop_ID :\n",
            "1320    1\n",
            "453     1\n",
            "435     1\n",
            "436     1\n",
            "437     1\n",
            "       ..\n",
            "880     1\n",
            "881     1\n",
            "882     1\n",
            "883     1\n",
            "1       1\n",
            "Name: laptop_ID, Length: 1303, dtype: int64\n",
            "\n",
            "Company :\n",
            "Dell         297\n",
            "Lenovo       297\n",
            "HP           274\n",
            "Asus         158\n",
            "Acer         103\n",
            "MSI           54\n",
            "Toshiba       48\n",
            "Apple         21\n",
            "Samsung        9\n",
            "Mediacom       7\n",
            "Razer          7\n",
            "Microsoft      6\n",
            "Xiaomi         4\n",
            "Vero           4\n",
            "Fujitsu        3\n",
            "Google         3\n",
            "Chuwi          3\n",
            "LG             3\n",
            "Huawei         2\n",
            "Name: Company, dtype: int64\n",
            "\n",
            "Product :\n",
            "XPS 13                              30\n",
            "Inspiron 3567                       29\n",
            "250 G6                              21\n",
            "Vostro 3568                         19\n",
            "Legion Y520-15IKBN                  19\n",
            "                                    ..\n",
            "Omen 17-AN010nv                      1\n",
            "Pavilion 15-BC000nv                  1\n",
            "Stream 14-AX040wm                    1\n",
            "17-AK091ND (A9-9420/8GB/1TB/W10)     1\n",
            "V110-15IAP (N3350/4GB/1TB/No         1\n",
            "Name: Product, Length: 618, dtype: int64\n",
            "\n",
            "TypeName :\n",
            "Notebook              727\n",
            "Gaming                205\n",
            "Ultrabook             196\n",
            "2 in 1 Convertible    121\n",
            "Workstation            29\n",
            "Netbook                25\n",
            "Name: TypeName, dtype: int64\n",
            "\n",
            "Inches :\n",
            "15.6    665\n",
            "14.0    197\n",
            "13.3    164\n",
            "17.3    164\n",
            "12.5     39\n",
            "11.6     33\n",
            "13.9      6\n",
            "13.5      6\n",
            "12.0      6\n",
            "12.3      5\n",
            "15.4      4\n",
            "10.1      4\n",
            "15.0      4\n",
            "13.0      2\n",
            "18.4      1\n",
            "14.1      1\n",
            "17.0      1\n",
            "11.3      1\n",
            "Name: Inches, dtype: int64\n",
            "\n",
            "ScreenResolution :\n",
            "Full HD 1920x1080                                507\n",
            "1366x768                                         281\n",
            "IPS Panel Full HD 1920x1080                      230\n",
            "IPS Panel Full HD / Touchscreen 1920x1080         53\n",
            "Full HD / Touchscreen 1920x1080                   47\n",
            "1600x900                                          23\n",
            "Touchscreen 1366x768                              16\n",
            "Quad HD+ / Touchscreen 3200x1800                  15\n",
            "IPS Panel 4K Ultra HD 3840x2160                   12\n",
            "IPS Panel 4K Ultra HD / Touchscreen 3840x2160     11\n",
            "4K Ultra HD / Touchscreen 3840x2160               10\n",
            "4K Ultra HD 3840x2160                              7\n",
            "IPS Panel 1366x768                                 7\n",
            "Touchscreen 2560x1440                              7\n",
            "IPS Panel Retina Display 2560x1600                 6\n",
            "IPS Panel Quad HD+ / Touchscreen 3200x1800         6\n",
            "IPS Panel Retina Display 2304x1440                 6\n",
            "Touchscreen 2256x1504                              6\n",
            "IPS Panel Touchscreen 2560x1440                    5\n",
            "IPS Panel Touchscreen 1920x1200                    4\n",
            "IPS Panel Retina Display 2880x1800                 4\n",
            "1440x900                                           4\n",
            "IPS Panel 2560x1440                                4\n",
            "1920x1080                                          3\n",
            "2560x1440                                          3\n",
            "IPS Panel Quad HD+ 2560x1440                       3\n",
            "Touchscreen 2400x1600                              3\n",
            "IPS Panel Touchscreen 1366x768                     3\n",
            "Quad HD+ 3200x1800                                 3\n",
            "IPS Panel Full HD 2160x1440                        2\n",
            "IPS Panel Quad HD+ 3200x1800                       2\n",
            "IPS Panel Touchscreen / 4K Ultra HD 3840x2160      2\n",
            "IPS Panel Touchscreen 2400x1600                    1\n",
            "Touchscreen / Quad HD+ 3200x1800                   1\n",
            "IPS Panel Retina Display 2736x1824                 1\n",
            "IPS Panel Full HD 1920x1200                        1\n",
            "Touchscreen / 4K Ultra HD 3840x2160                1\n",
            "IPS Panel Full HD 1366x768                         1\n",
            "IPS Panel Full HD 2560x1440                        1\n",
            "Touchscreen / Full HD 1920x1080                    1\n",
            "Name: ScreenResolution, dtype: int64\n",
            "\n",
            "Cpu :\n",
            "Intel Core i5 7200U 2.5GHz     190\n",
            "Intel Core i7 7700HQ 2.8GHz    146\n",
            "Intel Core i7 7500U 2.7GHz     134\n",
            "Intel Core i7 8550U 1.8GHz      73\n",
            "Intel Core i5 8250U 1.6GHz      72\n",
            "                              ... \n",
            "AMD E-Series 9000 2.2GHz         1\n",
            "Intel Core i5 6260U 1.8GHz       1\n",
            "Intel Core i5 6440HQ 2.6GHz      1\n",
            "AMD A12-Series 9700P 2.5GHz      1\n",
            "Intel Core M 7Y30 1.0GHz         1\n",
            "Name: Cpu, Length: 118, dtype: int64\n",
            "\n",
            "Ram :\n",
            "8GB     619\n",
            "4GB     375\n",
            "16GB    200\n",
            "6GB      41\n",
            "12GB     25\n",
            "2GB      22\n",
            "32GB     17\n",
            "24GB      3\n",
            "64GB      1\n",
            "Name: Ram, dtype: int64\n",
            "\n",
            "Memory :\n",
            "256GB SSD                        412\n",
            "1TB HDD                          223\n",
            "500GB HDD                        132\n",
            "512GB SSD                        118\n",
            "128GB SSD +  1TB HDD              94\n",
            "128GB SSD                         76\n",
            "256GB SSD +  1TB HDD              73\n",
            "32GB Flash Storage                38\n",
            "2TB HDD                           16\n",
            "64GB Flash Storage                15\n",
            "512GB SSD +  1TB HDD              14\n",
            "1TB SSD                           14\n",
            "256GB SSD +  2TB HDD              10\n",
            "1.0TB Hybrid                       9\n",
            "256GB Flash Storage                8\n",
            "16GB Flash Storage                 7\n",
            "32GB SSD                           6\n",
            "180GB SSD                          5\n",
            "128GB Flash Storage                4\n",
            "512GB SSD +  2TB HDD               3\n",
            "16GB SSD                           3\n",
            "1TB SSD +  1TB HDD                 2\n",
            "128GB SSD +  2TB HDD               2\n",
            "512GB Flash Storage                2\n",
            "256GB SSD +  256GB SSD             2\n",
            "256GB SSD +  500GB HDD             2\n",
            "508GB Hybrid                       1\n",
            "64GB SSD                           1\n",
            "512GB SSD +  512GB SSD             1\n",
            "64GB Flash Storage +  1TB HDD      1\n",
            "256GB SSD +  1.0TB Hybrid          1\n",
            "32GB HDD                           1\n",
            "1.0TB HDD                          1\n",
            "1TB HDD +  1TB HDD                 1\n",
            "240GB SSD                          1\n",
            "8GB SSD                            1\n",
            "512GB SSD +  1.0TB Hybrid          1\n",
            "128GB HDD                          1\n",
            "512GB SSD +  256GB SSD             1\n",
            "Name: Memory, dtype: int64\n",
            "\n",
            "Gpu :\n",
            "Intel HD Graphics 620      281\n",
            "Intel HD Graphics 520      185\n",
            "Intel UHD Graphics 620      68\n",
            "Nvidia GeForce GTX 1050     66\n",
            "Nvidia GeForce GTX 1060     48\n",
            "                          ... \n",
            "Nvidia GeForce GTX 940M      1\n",
            "AMD FirePro W6150M           1\n",
            "Nvidia GTX 980 SLI           1\n",
            "AMD Radeon Pro 560           1\n",
            "Nvidia GeForce 960M          1\n",
            "Name: Gpu, Length: 110, dtype: int64\n",
            "\n",
            "OpSys :\n",
            "Windows 10      1072\n",
            "No OS             66\n",
            "Linux             62\n",
            "Windows 7         45\n",
            "Chrome OS         27\n",
            "macOS             13\n",
            "Windows 10 S       8\n",
            "Mac OS X           8\n",
            "Android            2\n",
            "Name: OpSys, dtype: int64\n",
            "\n",
            "Weight :\n",
            "2.2kg     121\n",
            "2.1kg      58\n",
            "2.4kg      44\n",
            "2.3kg      41\n",
            "2.5kg      38\n",
            "         ... \n",
            "2.21kg      1\n",
            "2.79kg      1\n",
            "0.91kg      1\n",
            "2.99kg      1\n",
            "1.79kg      1\n",
            "Name: Weight, Length: 179, dtype: int64\n",
            "\n",
            "Price_euros :\n",
            "1099.0    14\n",
            "1499.0    14\n",
            "1799.0    14\n",
            "1299.0    11\n",
            "1199.0    11\n",
            "          ..\n",
            "1210.0     1\n",
            "943.0      1\n",
            "1770.0     1\n",
            "2370.0     1\n",
            "400.0      1\n",
            "Name: Price_euros, Length: 791, dtype: int64\n",
            "\n"
          ],
          "name": "stdout"
        }
      ]
    },
    {
      "cell_type": "markdown",
      "metadata": {
        "id": "y48ttNChSwGP"
      },
      "source": [
        "# Conclusions:\n",
        "1. laptop_ID - Unique, not relevant to the model\n",
        "2. Company - need to split category to columns\n",
        "3. Product - ???\n",
        "4. TypeName - need to split category to columns\n",
        "5. Inches - need to make rounded\n",
        "6. ScreenResolution - ???\n",
        "7. Cpu - I think we should smart seperate to manufacturer and have the model in some other way !?\n",
        "8. Ram - numeric\n",
        "9. Memory - storage\n",
        "10. Gpu - category to column !?\n",
        "11. OpSys - Important -- category to columns \n",
        "12. Weight\n",
        "13. Price_euros - ***Predict***"
      ]
    },
    {
      "cell_type": "markdown",
      "metadata": {
        "id": "K_mTB99ZasEK"
      },
      "source": [
        "# **EDA - Data Exploration**"
      ]
    },
    {
      "cell_type": "code",
      "metadata": {
        "colab": {
          "base_uri": "https://localhost:8080/",
          "height": 0
        },
        "id": "TsjF0MssdKeS",
        "outputId": "87780e49-2d7e-4cb2-aafe-0680eb396235"
      },
      "source": [
        "df.head(3)"
      ],
      "execution_count": 655,
      "outputs": [
        {
          "output_type": "execute_result",
          "data": {
            "text/html": [
              "<div>\n",
              "<style scoped>\n",
              "    .dataframe tbody tr th:only-of-type {\n",
              "        vertical-align: middle;\n",
              "    }\n",
              "\n",
              "    .dataframe tbody tr th {\n",
              "        vertical-align: top;\n",
              "    }\n",
              "\n",
              "    .dataframe thead th {\n",
              "        text-align: right;\n",
              "    }\n",
              "</style>\n",
              "<table border=\"1\" class=\"dataframe\">\n",
              "  <thead>\n",
              "    <tr style=\"text-align: right;\">\n",
              "      <th></th>\n",
              "      <th>laptop_ID</th>\n",
              "      <th>Company</th>\n",
              "      <th>Product</th>\n",
              "      <th>TypeName</th>\n",
              "      <th>Inches</th>\n",
              "      <th>ScreenResolution</th>\n",
              "      <th>Cpu</th>\n",
              "      <th>Ram</th>\n",
              "      <th>Memory</th>\n",
              "      <th>Gpu</th>\n",
              "      <th>OpSys</th>\n",
              "      <th>Weight</th>\n",
              "      <th>Price_euros</th>\n",
              "    </tr>\n",
              "  </thead>\n",
              "  <tbody>\n",
              "    <tr>\n",
              "      <th>0</th>\n",
              "      <td>1</td>\n",
              "      <td>Apple</td>\n",
              "      <td>MacBook Pro</td>\n",
              "      <td>Ultrabook</td>\n",
              "      <td>13.3</td>\n",
              "      <td>IPS Panel Retina Display 2560x1600</td>\n",
              "      <td>Intel Core i5 2.3GHz</td>\n",
              "      <td>8GB</td>\n",
              "      <td>128GB SSD</td>\n",
              "      <td>Intel Iris Plus Graphics 640</td>\n",
              "      <td>macOS</td>\n",
              "      <td>1.37kg</td>\n",
              "      <td>1339.69</td>\n",
              "    </tr>\n",
              "    <tr>\n",
              "      <th>1</th>\n",
              "      <td>2</td>\n",
              "      <td>Apple</td>\n",
              "      <td>Macbook Air</td>\n",
              "      <td>Ultrabook</td>\n",
              "      <td>13.3</td>\n",
              "      <td>1440x900</td>\n",
              "      <td>Intel Core i5 1.8GHz</td>\n",
              "      <td>8GB</td>\n",
              "      <td>128GB Flash Storage</td>\n",
              "      <td>Intel HD Graphics 6000</td>\n",
              "      <td>macOS</td>\n",
              "      <td>1.34kg</td>\n",
              "      <td>898.94</td>\n",
              "    </tr>\n",
              "    <tr>\n",
              "      <th>2</th>\n",
              "      <td>3</td>\n",
              "      <td>HP</td>\n",
              "      <td>250 G6</td>\n",
              "      <td>Notebook</td>\n",
              "      <td>15.6</td>\n",
              "      <td>Full HD 1920x1080</td>\n",
              "      <td>Intel Core i5 7200U 2.5GHz</td>\n",
              "      <td>8GB</td>\n",
              "      <td>256GB SSD</td>\n",
              "      <td>Intel HD Graphics 620</td>\n",
              "      <td>No OS</td>\n",
              "      <td>1.86kg</td>\n",
              "      <td>575.00</td>\n",
              "    </tr>\n",
              "  </tbody>\n",
              "</table>\n",
              "</div>"
            ],
            "text/plain": [
              "   laptop_ID Company      Product  ...  OpSys  Weight Price_euros\n",
              "0          1   Apple  MacBook Pro  ...  macOS  1.37kg     1339.69\n",
              "1          2   Apple  Macbook Air  ...  macOS  1.34kg      898.94\n",
              "2          3      HP       250 G6  ...  No OS  1.86kg      575.00\n",
              "\n",
              "[3 rows x 13 columns]"
            ]
          },
          "metadata": {
            "tags": []
          },
          "execution_count": 655
        }
      ]
    },
    {
      "cell_type": "code",
      "metadata": {
        "id": "VIW4TmfZazlr"
      },
      "source": [
        "sns.color_palette(\"coolwarm\", as_cmap=True)\n",
        "sns.set_theme(style=\"whitegrid\")"
      ],
      "execution_count": 656,
      "outputs": []
    },
    {
      "cell_type": "code",
      "metadata": {
        "colab": {
          "base_uri": "https://localhost:8080/",
          "height": 0
        },
        "id": "ytQbxDTjfdpD",
        "outputId": "ababfae2-88b3-4e26-a10e-4868855de7f2"
      },
      "source": [
        "plt.figure(figsize=(20,6))\n",
        "sns.countplot(data=df, x='Company')"
      ],
      "execution_count": 657,
      "outputs": [
        {
          "output_type": "execute_result",
          "data": {
            "text/plain": [
              "<matplotlib.axes._subplots.AxesSubplot at 0x7f07d70102b0>"
            ]
          },
          "metadata": {
            "tags": []
          },
          "execution_count": 657
        },
        {
          "output_type": "display_data",
          "data": {
            "image/png": "[encoded data removed]",
            "text/plain": [
              "<Figure size 1440x432 with 1 Axes>"
            ]
          },
          "metadata": {
            "tags": []
          }
        }
      ]
    },
    {
      "cell_type": "code",
      "metadata": {
        "colab": {
          "base_uri": "https://localhost:8080/",
          "height": 0
        },
        "id": "OE9vuUoZa6dz",
        "outputId": "790b3091-280b-45bd-ee15-5350c5c975ec"
      },
      "source": [
        "plt.figure(figsize=(20,5))\n",
        "sns.barplot(data=df, x='Company', y=df['Price_euros'])"
      ],
      "execution_count": 658,
      "outputs": [
        {
          "output_type": "execute_result",
          "data": {
            "text/plain": [
              "<matplotlib.axes._subplots.AxesSubplot at 0x7f07d70302b0>"
            ]
          },
          "metadata": {
            "tags": []
          },
          "execution_count": 658
        },
        {
          "output_type": "display_data",
          "data": {
            "image/png": "[encoded data removed]",
            "text/plain": [
              "<Figure size 1440x360 with 1 Axes>"
            ]
          },
          "metadata": {
            "tags": []
          }
        }
      ]
    },
    {
      "cell_type": "code",
      "metadata": {
        "colab": {
          "base_uri": "https://localhost:8080/",
          "height": 0
        },
        "id": "xn4lKE9AgUQI",
        "outputId": "a208b942-fe74-422c-a157-9c5496e7f0cf"
      },
      "source": [
        "#plt.figure(figsize=(20,10))\n",
        "df.sort_values('Price_euros', inplace=True, ascending=False)\n",
        "sns.barplot(data=df, x=df['Ram'], y=df['Price_euros'], order=df.Price_euros)"
      ],
      "execution_count": 659,
      "outputs": [
        {
          "output_type": "execute_result",
          "data": {
            "text/plain": [
              "<matplotlib.axes._subplots.AxesSubplot at 0x7f07d701e160>"
            ]
          },
          "metadata": {
            "tags": []
          },
          "execution_count": 659
        },
        {
          "output_type": "display_data",
          "data": {
            "image/png": "[encoded data removed]",
            "text/plain": [
              "<Figure size 432x288 with 1 Axes>"
            ]
          },
          "metadata": {
            "tags": []
          }
        }
      ]
    },
    {
      "cell_type": "code",
      "metadata": {
        "colab": {
          "base_uri": "https://localhost:8080/",
          "height": 0
        },
        "id": "NTRe721ThZIV",
        "outputId": "92dde1f3-320e-4c52-a396-f97416994655"
      },
      "source": [
        "#plt.figure(figsize=(20,10))\n",
        "sns.countplot(data=df, x='Ram', order = df['Ram'].value_counts().index)"
      ],
      "execution_count": 660,
      "outputs": [
        {
          "output_type": "execute_result",
          "data": {
            "text/plain": [
              "<matplotlib.axes._subplots.AxesSubplot at 0x7f07d4b03d68>"
            ]
          },
          "metadata": {
            "tags": []
          },
          "execution_count": 660
        },
        {
          "output_type": "display_data",
          "data": {
            "image/png": "[encoded data removed]",
            "text/plain": [
              "<Figure size 432x288 with 1 Axes>"
            ]
          },
          "metadata": {
            "tags": []
          }
        }
      ]
    },
    {
      "cell_type": "code",
      "metadata": {
        "colab": {
          "base_uri": "https://localhost:8080/",
          "height": 0
        },
        "id": "xK4U-pGRfyvO",
        "outputId": "cf16c462-a521-4178-b639-69d690f73ff9"
      },
      "source": [
        "plt.figure(figsize=(12,5))\n",
        "sns.countplot(data=df, x='OpSys') #, y='Price_euros')"
      ],
      "execution_count": 661,
      "outputs": [
        {
          "output_type": "execute_result",
          "data": {
            "text/plain": [
              "<matplotlib.axes._subplots.AxesSubplot at 0x7f07d4a92d30>"
            ]
          },
          "metadata": {
            "tags": []
          },
          "execution_count": 661
        },
        {
          "output_type": "display_data",
          "data": {
            "image/png": "[encoded data removed]",
            "text/plain": [
              "<Figure size 864x360 with 1 Axes>"
            ]
          },
          "metadata": {
            "tags": []
          }
        }
      ]
    },
    {
      "cell_type": "code",
      "metadata": {
        "colab": {
          "base_uri": "https://localhost:8080/",
          "height": 0
        },
        "id": "pGEsIJUZ3WSI",
        "outputId": "f86a11fa-9d49-4f21-f29e-73049ed989ba"
      },
      "source": [
        "plt.figure(figsize=(12,5))\n",
        "sns.countplot(data=df, x='TypeName') #, y='Price_euros')"
      ],
      "execution_count": 662,
      "outputs": [
        {
          "output_type": "execute_result",
          "data": {
            "text/plain": [
              "<matplotlib.axes._subplots.AxesSubplot at 0x7f07d4a41ba8>"
            ]
          },
          "metadata": {
            "tags": []
          },
          "execution_count": 662
        },
        {
          "output_type": "display_data",
          "data": {
            "image/png": "[encoded data removed]",
            "text/plain": [
              "<Figure size 864x360 with 1 Axes>"
            ]
          },
          "metadata": {
            "tags": []
          }
        }
      ]
    },
    {
      "cell_type": "code",
      "metadata": {
        "colab": {
          "base_uri": "https://localhost:8080/",
          "height": 0
        },
        "id": "BPb_0_AgZk76",
        "outputId": "c126a3a6-41d5-4ef8-f31a-05a99d788287"
      },
      "source": [
        "corr_df = df.corr()\n",
        "plt.figure(figsize=(20,10))\n",
        "sns.heatmap(corr_df , vmax=1, square=True, annot=False, cmap='YlGnBu')"
      ],
      "execution_count": 663,
      "outputs": [
        {
          "output_type": "execute_result",
          "data": {
            "text/plain": [
              "<matplotlib.axes._subplots.AxesSubplot at 0x7f07d7057c88>"
            ]
          },
          "metadata": {
            "tags": []
          },
          "execution_count": 663
        },
        {
          "output_type": "display_data",
          "data": {
            "image/png": "[encoded data removed]",
            "text/plain": [
              "<Figure size 1440x720 with 2 Axes>"
            ]
          },
          "metadata": {
            "tags": []
          }
        }
      ]
    },
    {
      "cell_type": "code",
      "metadata": {
        "id": "QFYFdY0YYJI9",
        "outputId": "f9cc2ab4-6428-4ab5-a2b1-90e7f50e863a",
        "colab": {
          "base_uri": "https://localhost:8080/"
        }
      },
      "source": [
        "df.Price_euros.sort_values().tail(10)"
      ],
      "execution_count": 664,
      "outputs": [
        {
          "output_type": "execute_result",
          "data": {
            "text/plain": [
              "1231    3499.0\n",
              "780     3588.8\n",
              "723     3659.4\n",
              "238     3890.0\n",
              "1136    3949.4\n",
              "1066    3975.0\n",
              "749     4389.0\n",
              "610     4899.0\n",
              "830     5499.0\n",
              "196     6099.0\n",
              "Name: Price_euros, dtype: float64"
            ]
          },
          "metadata": {
            "tags": []
          },
          "execution_count": 664
        }
      ]
    },
    {
      "cell_type": "code",
      "metadata": {
        "id": "vHXCCi67YVvf"
      },
      "source": [
        "#removing noisy values - prices over 3000\r\n",
        "df = df[df['Price_euros'] <= 3000]"
      ],
      "execution_count": 665,
      "outputs": []
    },
    {
      "cell_type": "markdown",
      "metadata": {
        "id": "f9U0zYZGn_w1"
      },
      "source": [
        "# **Data Manipulation**"
      ]
    },
    {
      "cell_type": "code",
      "metadata": {
        "colab": {
          "base_uri": "https://localhost:8080/"
        },
        "id": "jMUXuWtmponr",
        "outputId": "fa2c2a84-b242-4829-d2d0-5f58cfa41fe8"
      },
      "source": [
        "df.nunique()"
      ],
      "execution_count": 666,
      "outputs": [
        {
          "output_type": "execute_result",
          "data": {
            "text/plain": [
              "laptop_ID           1284\n",
              "Company               19\n",
              "Product              612\n",
              "TypeName               6\n",
              "Inches                18\n",
              "ScreenResolution      40\n",
              "Cpu                  116\n",
              "Ram                    8\n",
              "Memory                36\n",
              "Gpu                  107\n",
              "OpSys                  9\n",
              "Weight               178\n",
              "Price_euros          772\n",
              "dtype: int64"
            ]
          },
          "metadata": {
            "tags": []
          },
          "execution_count": 666
        }
      ]
    },
    {
      "cell_type": "code",
      "metadata": {
        "colab": {
          "base_uri": "https://localhost:8080/",
          "height": 145
        },
        "id": "OtdkuhU1n-9K",
        "outputId": "6f2a006f-650f-4d99-803c-1ed78386f24c"
      },
      "source": [
        "df.head(2)"
      ],
      "execution_count": 667,
      "outputs": [
        {
          "output_type": "execute_result",
          "data": {
            "text/html": [
              "<div>\n",
              "<style scoped>\n",
              "    .dataframe tbody tr th:only-of-type {\n",
              "        vertical-align: middle;\n",
              "    }\n",
              "\n",
              "    .dataframe tbody tr th {\n",
              "        vertical-align: top;\n",
              "    }\n",
              "\n",
              "    .dataframe thead th {\n",
              "        text-align: right;\n",
              "    }\n",
              "</style>\n",
              "<table border=\"1\" class=\"dataframe\">\n",
              "  <thead>\n",
              "    <tr style=\"text-align: right;\">\n",
              "      <th></th>\n",
              "      <th>laptop_ID</th>\n",
              "      <th>Company</th>\n",
              "      <th>Product</th>\n",
              "      <th>TypeName</th>\n",
              "      <th>Inches</th>\n",
              "      <th>ScreenResolution</th>\n",
              "      <th>Cpu</th>\n",
              "      <th>Ram</th>\n",
              "      <th>Memory</th>\n",
              "      <th>Gpu</th>\n",
              "      <th>OpSys</th>\n",
              "      <th>Weight</th>\n",
              "      <th>Price_euros</th>\n",
              "    </tr>\n",
              "  </thead>\n",
              "  <tbody>\n",
              "    <tr>\n",
              "      <th>563</th>\n",
              "      <td>570</td>\n",
              "      <td>Lenovo</td>\n",
              "      <td>Thinkpad P71</td>\n",
              "      <td>Notebook</td>\n",
              "      <td>17.3</td>\n",
              "      <td>IPS Panel Full HD 1920x1080</td>\n",
              "      <td>Intel Core i7 7700HQ 2.8GHz</td>\n",
              "      <td>8GB</td>\n",
              "      <td>256GB SSD</td>\n",
              "      <td>Nvidia Quadro M620M</td>\n",
              "      <td>Windows 10</td>\n",
              "      <td>3.4kg</td>\n",
              "      <td>2999.0</td>\n",
              "    </tr>\n",
              "    <tr>\n",
              "      <th>247</th>\n",
              "      <td>252</td>\n",
              "      <td>Asus</td>\n",
              "      <td>Rog G701VIK-BA060T</td>\n",
              "      <td>Gaming</td>\n",
              "      <td>17.3</td>\n",
              "      <td>Full HD 1920x1080</td>\n",
              "      <td>Intel Core i7 7820HK 2.9GHz</td>\n",
              "      <td>16GB</td>\n",
              "      <td>256GB SSD</td>\n",
              "      <td>Nvidia GeForce GTX 1080</td>\n",
              "      <td>Windows 10</td>\n",
              "      <td>3.6kg</td>\n",
              "      <td>2999.0</td>\n",
              "    </tr>\n",
              "  </tbody>\n",
              "</table>\n",
              "</div>"
            ],
            "text/plain": [
              "     laptop_ID Company             Product  ...       OpSys  Weight Price_euros\n",
              "563        570  Lenovo        Thinkpad P71  ...  Windows 10   3.4kg      2999.0\n",
              "247        252    Asus  Rog G701VIK-BA060T  ...  Windows 10   3.6kg      2999.0\n",
              "\n",
              "[2 rows x 13 columns]"
            ]
          },
          "metadata": {
            "tags": []
          },
          "execution_count": 667
        }
      ]
    },
    {
      "cell_type": "code",
      "metadata": {
        "id": "A1r_LPo8n-3h"
      },
      "source": [
        "df_Company = pd.get_dummies(df.Company, prefix='co_')\n",
        "df_Product = pd.get_dummies(df.Product, prefix='prd_')\n",
        "df_TypName = pd.get_dummies(df.TypeName, prefix='tpn_')\n",
        "df_os = pd.get_dummies(df.OpSys, prefix='os_')"
      ],
      "execution_count": 668,
      "outputs": []
    },
    {
      "cell_type": "code",
      "metadata": {
        "id": "IFW5PNhtO2P5"
      },
      "source": [
        "# Round inch information \n",
        "df.Inches = df.Inches.round()\n",
        "\n",
        "# Ram to number\n",
        "df.Ram = df.Ram.str.replace('GB','').astype(int)\n",
        "\n",
        "# Weight to number\n",
        "df.Weight = df.Weight.str.replace('kg','').astype(float)\n",
        "\n",
        "# Memory to number\n",
        "df['Storage_amt'] = df.Memory.str.split().str[0]\n",
        "storage_map = {'1.0TB':'1000', '1TB':'1000', '2TB':'2000', '508':'500'}\n",
        "df.Storage_amt.replace(storage_map , inplace=True)\n",
        "df.Storage_amt = df.Storage_amt.str.replace('GB','').astype(int)\n",
        "\n",
        "# Split Cpu information \n",
        "df['Cpu_brand'] = df.Cpu.str.split().str[0]\n",
        "df['Cpu_speed'] = df.Cpu.str.split().str[-1]\n",
        "df.Cpu_speed = df.Cpu_speed.str.split('GHz').str[0].astype(float)\n",
        "#df['Cpu_model'] = \n",
        "df_Cpu_brand = pd.get_dummies(df.Cpu_brand, prefix='Cpu_')\n",
        "\n",
        "# Split Gpu information\n",
        "df['Gpu_brand'] = df.Gpu.str.split().str[0]\n",
        "df_Gpu_brand = pd.get_dummies(df.Gpu_brand, prefix='Gpu_')\n",
        "\n",
        "# Handle ScreenResolution information\n",
        "df['Scr_to'] = df.ScreenResolution.str.split('x').str[-1]\n",
        "df['Scr_from'] = df.ScreenResolution.str.split('x').str[0]\n",
        "df['Scr_from'] = df.Scr_from.str.split().str[-1]"
      ],
      "execution_count": 669,
      "outputs": []
    },
    {
      "cell_type": "code",
      "metadata": {
        "colab": {
          "base_uri": "https://localhost:8080/",
          "height": 194
        },
        "id": "I3lN_rjgmiJc",
        "outputId": "864d561d-24c0-4735-f1f0-5eeafd326cc3"
      },
      "source": [
        "#df_Company\n",
        "#df_Product\n",
        "#df_TypName\n",
        "#df.Inches\n",
        "#df.Cpu_speed\n",
        "#df_Cpu_brand\n",
        "\n",
        "#df.Cpu_model\n",
        "\n",
        "#df.Ram\n",
        "#Storage_amt\n",
        "\n",
        "#df.Memory\n",
        "\n",
        "#df_os\n",
        "#df.Weight\n",
        "\n",
        "#df.Scr_to\n",
        "#df.Scr_from\n",
        "\n",
        "\n",
        "df_model = pd.merge(df[['Inches', 'Ram', 'Weight', 'Price_euros', 'Storage_amt', 'Cpu_speed', 'Scr_from', 'Scr_to']], df_Company, left_index=True, right_index=True)\n",
        "df_model = pd.merge(df_model, df_Product, left_index=True, right_index=True)\n",
        "df_model = pd.merge(df_model, df_TypName, left_index=True, right_index=True)\n",
        "df_model = pd.merge(df_model, df_os, left_index=True, right_index=True)\n",
        "df_model = pd.merge(df_model, df_Cpu_brand, left_index=True, right_index=True)\n",
        "df_model = pd.merge(df_model, df_Gpu_brand, left_index=True, right_index=True)\n",
        "\n",
        "#df.drop(['Company', 'Product', 'TypeName', 'ScreenResolution', 'Cpu', 'Memory', 'Gpu', 'OpSys'], axis=1, inplace=True)\n",
        "\n",
        "df_model.head(2)"
      ],
      "execution_count": 670,
      "outputs": [
        {
          "output_type": "execute_result",
          "data": {
            "text/html": [
              "<div>\n",
              "<style scoped>\n",
              "    .dataframe tbody tr th:only-of-type {\n",
              "        vertical-align: middle;\n",
              "    }\n",
              "\n",
              "    .dataframe tbody tr th {\n",
              "        vertical-align: top;\n",
              "    }\n",
              "\n",
              "    .dataframe thead th {\n",
              "        text-align: right;\n",
              "    }\n",
              "</style>\n",
              "<table border=\"1\" class=\"dataframe\">\n",
              "  <thead>\n",
              "    <tr style=\"text-align: right;\">\n",
              "      <th></th>\n",
              "      <th>Inches</th>\n",
              "      <th>Ram</th>\n",
              "      <th>Weight</th>\n",
              "      <th>Price_euros</th>\n",
              "      <th>Storage_amt</th>\n",
              "      <th>Cpu_speed</th>\n",
              "      <th>Scr_from</th>\n",
              "      <th>Scr_to</th>\n",
              "      <th>co__Acer</th>\n",
              "      <th>co__Apple</th>\n",
              "      <th>co__Asus</th>\n",
              "      <th>co__Chuwi</th>\n",
              "      <th>co__Dell</th>\n",
              "      <th>co__Fujitsu</th>\n",
              "      <th>co__Google</th>\n",
              "      <th>co__HP</th>\n",
              "      <th>co__Huawei</th>\n",
              "      <th>co__LG</th>\n",
              "      <th>co__Lenovo</th>\n",
              "      <th>co__MSI</th>\n",
              "      <th>co__Mediacom</th>\n",
              "      <th>co__Microsoft</th>\n",
              "      <th>co__Razer</th>\n",
              "      <th>co__Samsung</th>\n",
              "      <th>co__Toshiba</th>\n",
              "      <th>co__Vero</th>\n",
              "      <th>co__Xiaomi</th>\n",
              "      <th>prd__110-15ACL (A6-7310/4GB/500GB/W10)</th>\n",
              "      <th>prd__14-am079na (N3710/8GB/2TB/W10)</th>\n",
              "      <th>prd__15-AC110nv (i7-6500U/6GB/1TB/Radeon</th>\n",
              "      <th>prd__15-AY023na (N3710/8GB/2TB/W10)</th>\n",
              "      <th>prd__15-BA015wm (E2-7110/4GB/500GB/W10)</th>\n",
              "      <th>prd__15-BS026nv (i5-7200U/8GB/256GB/Radeon</th>\n",
              "      <th>prd__15-BS028nv (i3-6006U/4GB/1TB/Radeon</th>\n",
              "      <th>prd__15-BS078nr (i7-7500U/8GB/1TB/W10)</th>\n",
              "      <th>prd__15-BS101nv (i7-8550U/8GB/256GB/FHD/W10)</th>\n",
              "      <th>prd__15-BS103nv (i5-8250U/6GB/256GB/Radeon</th>\n",
              "      <th>prd__15-BW004nv (A9-9420/4GB/256GB/Radeon</th>\n",
              "      <th>prd__15-BW037na (A9-9420/4GB/1TB/Radeon</th>\n",
              "      <th>prd__15-BW091ND (A9-9420/6GB/1TB</th>\n",
              "      <th>...</th>\n",
              "      <th>prd__ZenBook Flip</th>\n",
              "      <th>prd__ZenBook Pro</th>\n",
              "      <th>prd__ZenBook UX305CA-UBM1</th>\n",
              "      <th>prd__ZenBook UX310UA-FB485T</th>\n",
              "      <th>prd__ZenBook UX310UA-WB71</th>\n",
              "      <th>prd__ZenBook UX310UQ-GL026T</th>\n",
              "      <th>prd__ZenBook UX410UA-GV183T</th>\n",
              "      <th>prd__ZenBook UX430UA</th>\n",
              "      <th>prd__ZenBook UX430UN</th>\n",
              "      <th>prd__ZenBook UX510UX-CN211T</th>\n",
              "      <th>prd__ZenBook UX530UQ-PRO</th>\n",
              "      <th>prd__Zenbook 3</th>\n",
              "      <th>prd__Zenbook Flip</th>\n",
              "      <th>prd__Zenbook UX330UA-AH5Q</th>\n",
              "      <th>prd__Zenbook UX390UA</th>\n",
              "      <th>prd__Zenbook UX410UA-GV027T</th>\n",
              "      <th>prd__Zenbook UX430UA</th>\n",
              "      <th>prd__Zenbook UX510UW-FI095T</th>\n",
              "      <th>tpn__2 in 1 Convertible</th>\n",
              "      <th>tpn__Gaming</th>\n",
              "      <th>tpn__Netbook</th>\n",
              "      <th>tpn__Notebook</th>\n",
              "      <th>tpn__Ultrabook</th>\n",
              "      <th>tpn__Workstation</th>\n",
              "      <th>os__Android</th>\n",
              "      <th>os__Chrome OS</th>\n",
              "      <th>os__Linux</th>\n",
              "      <th>os__Mac OS X</th>\n",
              "      <th>os__No OS</th>\n",
              "      <th>os__Windows 10</th>\n",
              "      <th>os__Windows 10 S</th>\n",
              "      <th>os__Windows 7</th>\n",
              "      <th>os__macOS</th>\n",
              "      <th>Cpu__AMD</th>\n",
              "      <th>Cpu__Intel</th>\n",
              "      <th>Cpu__Samsung</th>\n",
              "      <th>Gpu__AMD</th>\n",
              "      <th>Gpu__ARM</th>\n",
              "      <th>Gpu__Intel</th>\n",
              "      <th>Gpu__Nvidia</th>\n",
              "    </tr>\n",
              "  </thead>\n",
              "  <tbody>\n",
              "    <tr>\n",
              "      <th>563</th>\n",
              "      <td>17.0</td>\n",
              "      <td>8</td>\n",
              "      <td>3.4</td>\n",
              "      <td>2999.0</td>\n",
              "      <td>256</td>\n",
              "      <td>2.8</td>\n",
              "      <td>1920</td>\n",
              "      <td>1080</td>\n",
              "      <td>0</td>\n",
              "      <td>0</td>\n",
              "      <td>0</td>\n",
              "      <td>0</td>\n",
              "      <td>0</td>\n",
              "      <td>0</td>\n",
              "      <td>0</td>\n",
              "      <td>0</td>\n",
              "      <td>0</td>\n",
              "      <td>0</td>\n",
              "      <td>1</td>\n",
              "      <td>0</td>\n",
              "      <td>0</td>\n",
              "      <td>0</td>\n",
              "      <td>0</td>\n",
              "      <td>0</td>\n",
              "      <td>0</td>\n",
              "      <td>0</td>\n",
              "      <td>0</td>\n",
              "      <td>0</td>\n",
              "      <td>0</td>\n",
              "      <td>0</td>\n",
              "      <td>0</td>\n",
              "      <td>0</td>\n",
              "      <td>0</td>\n",
              "      <td>0</td>\n",
              "      <td>0</td>\n",
              "      <td>0</td>\n",
              "      <td>0</td>\n",
              "      <td>0</td>\n",
              "      <td>0</td>\n",
              "      <td>0</td>\n",
              "      <td>...</td>\n",
              "      <td>0</td>\n",
              "      <td>0</td>\n",
              "      <td>0</td>\n",
              "      <td>0</td>\n",
              "      <td>0</td>\n",
              "      <td>0</td>\n",
              "      <td>0</td>\n",
              "      <td>0</td>\n",
              "      <td>0</td>\n",
              "      <td>0</td>\n",
              "      <td>0</td>\n",
              "      <td>0</td>\n",
              "      <td>0</td>\n",
              "      <td>0</td>\n",
              "      <td>0</td>\n",
              "      <td>0</td>\n",
              "      <td>0</td>\n",
              "      <td>0</td>\n",
              "      <td>0</td>\n",
              "      <td>0</td>\n",
              "      <td>0</td>\n",
              "      <td>1</td>\n",
              "      <td>0</td>\n",
              "      <td>0</td>\n",
              "      <td>0</td>\n",
              "      <td>0</td>\n",
              "      <td>0</td>\n",
              "      <td>0</td>\n",
              "      <td>0</td>\n",
              "      <td>1</td>\n",
              "      <td>0</td>\n",
              "      <td>0</td>\n",
              "      <td>0</td>\n",
              "      <td>0</td>\n",
              "      <td>1</td>\n",
              "      <td>0</td>\n",
              "      <td>0</td>\n",
              "      <td>0</td>\n",
              "      <td>0</td>\n",
              "      <td>1</td>\n",
              "    </tr>\n",
              "    <tr>\n",
              "      <th>247</th>\n",
              "      <td>17.0</td>\n",
              "      <td>16</td>\n",
              "      <td>3.6</td>\n",
              "      <td>2999.0</td>\n",
              "      <td>256</td>\n",
              "      <td>2.9</td>\n",
              "      <td>1920</td>\n",
              "      <td>1080</td>\n",
              "      <td>0</td>\n",
              "      <td>0</td>\n",
              "      <td>1</td>\n",
              "      <td>0</td>\n",
              "      <td>0</td>\n",
              "      <td>0</td>\n",
              "      <td>0</td>\n",
              "      <td>0</td>\n",
              "      <td>0</td>\n",
              "      <td>0</td>\n",
              "      <td>0</td>\n",
              "      <td>0</td>\n",
              "      <td>0</td>\n",
              "      <td>0</td>\n",
              "      <td>0</td>\n",
              "      <td>0</td>\n",
              "      <td>0</td>\n",
              "      <td>0</td>\n",
              "      <td>0</td>\n",
              "      <td>0</td>\n",
              "      <td>0</td>\n",
              "      <td>0</td>\n",
              "      <td>0</td>\n",
              "      <td>0</td>\n",
              "      <td>0</td>\n",
              "      <td>0</td>\n",
              "      <td>0</td>\n",
              "      <td>0</td>\n",
              "      <td>0</td>\n",
              "      <td>0</td>\n",
              "      <td>0</td>\n",
              "      <td>0</td>\n",
              "      <td>...</td>\n",
              "      <td>0</td>\n",
              "      <td>0</td>\n",
              "      <td>0</td>\n",
              "      <td>0</td>\n",
              "      <td>0</td>\n",
              "      <td>0</td>\n",
              "      <td>0</td>\n",
              "      <td>0</td>\n",
              "      <td>0</td>\n",
              "      <td>0</td>\n",
              "      <td>0</td>\n",
              "      <td>0</td>\n",
              "      <td>0</td>\n",
              "      <td>0</td>\n",
              "      <td>0</td>\n",
              "      <td>0</td>\n",
              "      <td>0</td>\n",
              "      <td>0</td>\n",
              "      <td>0</td>\n",
              "      <td>1</td>\n",
              "      <td>0</td>\n",
              "      <td>0</td>\n",
              "      <td>0</td>\n",
              "      <td>0</td>\n",
              "      <td>0</td>\n",
              "      <td>0</td>\n",
              "      <td>0</td>\n",
              "      <td>0</td>\n",
              "      <td>0</td>\n",
              "      <td>1</td>\n",
              "      <td>0</td>\n",
              "      <td>0</td>\n",
              "      <td>0</td>\n",
              "      <td>0</td>\n",
              "      <td>1</td>\n",
              "      <td>0</td>\n",
              "      <td>0</td>\n",
              "      <td>0</td>\n",
              "      <td>0</td>\n",
              "      <td>1</td>\n",
              "    </tr>\n",
              "  </tbody>\n",
              "</table>\n",
              "<p>2 rows × 661 columns</p>\n",
              "</div>"
            ],
            "text/plain": [
              "     Inches  Ram  Weight  ...  Gpu__ARM  Gpu__Intel  Gpu__Nvidia\n",
              "563    17.0    8     3.4  ...         0           0            1\n",
              "247    17.0   16     3.6  ...         0           0            1\n",
              "\n",
              "[2 rows x 661 columns]"
            ]
          },
          "metadata": {
            "tags": []
          },
          "execution_count": 670
        }
      ]
    },
    {
      "cell_type": "code",
      "metadata": {
        "colab": {
          "base_uri": "https://localhost:8080/"
        },
        "id": "GSrUt-lcFdyB",
        "outputId": "4a6c5447-9641-49d9-ce50-eb7bfb45c442"
      },
      "source": [
        "df_model.shape"
      ],
      "execution_count": 671,
      "outputs": [
        {
          "output_type": "execute_result",
          "data": {
            "text/plain": [
              "(1284, 661)"
            ]
          },
          "metadata": {
            "tags": []
          },
          "execution_count": 671
        }
      ]
    },
    {
      "cell_type": "markdown",
      "metadata": {
        "id": "bGC_AEy6Rmx0"
      },
      "source": [
        "# **Model**"
      ]
    },
    {
      "cell_type": "code",
      "metadata": {
        "id": "6ZIjXWyYUp7_"
      },
      "source": [
        "X = df_model.drop('Price_euros', axis=1)\n",
        "y = df_model['Price_euros']"
      ],
      "execution_count": 740,
      "outputs": []
    },
    {
      "cell_type": "code",
      "metadata": {
        "id": "nUSvi-ADUmC8"
      },
      "source": [
        "X_train, X_test, y_train, y_test = split(X, y, test_size=0.3, random_state=314159)"
      ],
      "execution_count": 741,
      "outputs": []
    },
    {
      "cell_type": "code",
      "metadata": {
        "id": "3XvxTKfxMQ-b"
      },
      "source": [
        "#model = RandomForestClassifier()\n",
        "model = DecisionTreeRegressor(max_depth=20).fit(X_train, y_train)\n",
        "#, min_samples_leaf=9"
      ],
      "execution_count": 742,
      "outputs": []
    },
    {
      "cell_type": "code",
      "metadata": {
        "id": "OCrNlzeWMccl"
      },
      "source": [
        "#model.feature_importances_"
      ],
      "execution_count": 743,
      "outputs": []
    },
    {
      "cell_type": "code",
      "metadata": {
        "id": "GwKsl_mozLGN"
      },
      "source": [
        "y_train_pred = model.predict(X_train)"
      ],
      "execution_count": 744,
      "outputs": []
    },
    {
      "cell_type": "code",
      "metadata": {
        "colab": {
          "base_uri": "https://localhost:8080/",
          "height": 303
        },
        "id": "OcgjltQHzaVk",
        "outputId": "ffa97e95-296c-47f4-c5ea-a51ac86ef72c"
      },
      "source": [
        "ax = sns.scatterplot(x=y_train, y=y_train_pred)\n",
        "ax.plot(y_train, y_train, 'r')"
      ],
      "execution_count": 745,
      "outputs": [
        {
          "output_type": "execute_result",
          "data": {
            "text/plain": [
              "[<matplotlib.lines.Line2D at 0x7f07d33e9828>]"
            ]
          },
          "metadata": {
            "tags": []
          },
          "execution_count": 745
        },
        {
          "output_type": "display_data",
          "data": {
            "image/png": "[encoded data removed]",
            "text/plain": [
              "<Figure size 432x288 with 1 Axes>"
            ]
          },
          "metadata": {
            "tags": []
          }
        }
      ]
    },
    {
      "cell_type": "code",
      "metadata": {
        "colab": {
          "base_uri": "https://localhost:8080/"
        },
        "id": "y2G1pHwEzeWw",
        "outputId": "1bb7707f-a3c0-4635-c782-e0d5f79fde43"
      },
      "source": [
        "RMSE = mse(y_train, y_train_pred)**0.5\n",
        "RMSE"
      ],
      "execution_count": 746,
      "outputs": [
        {
          "output_type": "execute_result",
          "data": {
            "text/plain": [
              "44.673189999390665"
            ]
          },
          "metadata": {
            "tags": []
          },
          "execution_count": 746
        }
      ]
    },
    {
      "cell_type": "code",
      "metadata": {
        "id": "VcO5S8BUziLG"
      },
      "source": [
        "y_test_pred = model.predict(X_test)"
      ],
      "execution_count": 747,
      "outputs": []
    },
    {
      "cell_type": "code",
      "metadata": {
        "colab": {
          "base_uri": "https://localhost:8080/",
          "height": 303
        },
        "id": "NXvGUvSXziPG",
        "outputId": "277859f3-feb0-4e4a-e56f-60edc365ce9d"
      },
      "source": [
        "ax = sns.scatterplot(x=y_test, y=y_test_pred)\n",
        "ax.plot(y_train, y_train, 'r')"
      ],
      "execution_count": 748,
      "outputs": [
        {
          "output_type": "execute_result",
          "data": {
            "text/plain": [
              "[<matplotlib.lines.Line2D at 0x7f07d1e28e80>]"
            ]
          },
          "metadata": {
            "tags": []
          },
          "execution_count": 748
        },
        {
          "output_type": "display_data",
          "data": {
            "image/png": "[encoded data removed]",
            "text/plain": [
              "<Figure size 432x288 with 1 Axes>"
            ]
          },
          "metadata": {
            "tags": []
          }
        }
      ]
    },
    {
      "cell_type": "code",
      "metadata": {
        "colab": {
          "base_uri": "https://localhost:8080/"
        },
        "id": "n9nKcgWrziSP",
        "outputId": "c812d63e-5e8e-419d-d5fc-feb08904ae41"
      },
      "source": [
        "RMSE = mse(y_test, y_test_pred)**0.5\n",
        "RMSE"
      ],
      "execution_count": 749,
      "outputs": [
        {
          "output_type": "execute_result",
          "data": {
            "text/plain": [
              "347.8010524643991"
            ]
          },
          "metadata": {
            "tags": []
          },
          "execution_count": 749
        }
      ]
    },
    {
      "cell_type": "code",
      "metadata": {
        "id": "DeG-Sk6wziVE"
      },
      "source": [
        "def visualize_tree(model, md=5):\n",
        "    dot_data = StringIO()  \n",
        "    export_graphviz(model, out_file=dot_data, feature_names=X_train.columns, max_depth=md)\n",
        "    graph = pydot.graph_from_dot_data(dot_data.getvalue())[0]  \n",
        "    return Image(graph.create_png(), width=800) "
      ],
      "execution_count": 750,
      "outputs": []
    },
    {
      "cell_type": "code",
      "metadata": {
        "id": "d0K2SoHAziYH"
      },
      "source": [
        "visualize_tree(model, md=100)"
      ],
      "execution_count": null,
      "outputs": []
    },
    {
      "cell_type": "markdown",
      "metadata": {
        "id": "vd7kTT82z3oo"
      },
      "source": [
        "# Handle the rest of the code...."
      ]
    },
    {
      "cell_type": "code",
      "metadata": {
        "id": "ibAbdn8JYWr_"
      },
      "source": [
        "X, y = make_classification(n_samples=1000, n_features=4, n_informative=2, n_redundant=0, random_state=0, shuffle=False)"
      ],
      "execution_count": 473,
      "outputs": []
    },
    {
      "cell_type": "code",
      "metadata": {
        "id": "BQ3RL0EQZggF",
        "outputId": "aeb61cb3-f133-4fb8-e84f-b3bb543944c5",
        "colab": {
          "base_uri": "https://localhost:8080/",
          "height": 0
        }
      },
      "source": [
        "clf = RandomForestClassifier(max_depth=2, random_state=0)\n",
        "clf.fit(X_train, y_train)\n",
        "RandomForestClassifier(...)\n",
        "print(clf.predict([[0, 0, 0, 0]]))"
      ],
      "execution_count": 474,
      "outputs": [
        {
          "output_type": "error",
          "ename": "ValueError",
          "evalue": "ignored",
          "traceback": [
            "\u001b[0;31m---------------------------------------------------------------------------\u001b[0m",
            "\u001b[0;31mValueError\u001b[0m                                Traceback (most recent call last)",
            "\u001b[0;32m<ipython-input-474-1369e2975fdf>\u001b[0m in \u001b[0;36m<module>\u001b[0;34m()\u001b[0m\n\u001b[1;32m      1\u001b[0m \u001b[0mclf\u001b[0m \u001b[0;34m=\u001b[0m \u001b[0mRandomForestClassifier\u001b[0m\u001b[0;34m(\u001b[0m\u001b[0mmax_depth\u001b[0m\u001b[0;34m=\u001b[0m\u001b[0;36m2\u001b[0m\u001b[0;34m,\u001b[0m \u001b[0mrandom_state\u001b[0m\u001b[0;34m=\u001b[0m\u001b[0;36m0\u001b[0m\u001b[0;34m)\u001b[0m\u001b[0;34m\u001b[0m\u001b[0;34m\u001b[0m\u001b[0m\n\u001b[0;32m----> 2\u001b[0;31m \u001b[0mclf\u001b[0m\u001b[0;34m.\u001b[0m\u001b[0mfit\u001b[0m\u001b[0;34m(\u001b[0m\u001b[0mX_train\u001b[0m\u001b[0;34m,\u001b[0m \u001b[0my_train\u001b[0m\u001b[0;34m)\u001b[0m\u001b[0;34m\u001b[0m\u001b[0;34m\u001b[0m\u001b[0m\n\u001b[0m\u001b[1;32m      3\u001b[0m \u001b[0mRandomForestClassifier\u001b[0m\u001b[0;34m(\u001b[0m\u001b[0;34m...\u001b[0m\u001b[0;34m)\u001b[0m\u001b[0;34m\u001b[0m\u001b[0;34m\u001b[0m\u001b[0m\n\u001b[1;32m      4\u001b[0m \u001b[0mprint\u001b[0m\u001b[0;34m(\u001b[0m\u001b[0mclf\u001b[0m\u001b[0;34m.\u001b[0m\u001b[0mpredict\u001b[0m\u001b[0;34m(\u001b[0m\u001b[0;34m[\u001b[0m\u001b[0;34m[\u001b[0m\u001b[0;36m0\u001b[0m\u001b[0;34m,\u001b[0m \u001b[0;36m0\u001b[0m\u001b[0;34m,\u001b[0m \u001b[0;36m0\u001b[0m\u001b[0;34m,\u001b[0m \u001b[0;36m0\u001b[0m\u001b[0;34m]\u001b[0m\u001b[0;34m]\u001b[0m\u001b[0;34m)\u001b[0m\u001b[0;34m)\u001b[0m\u001b[0;34m\u001b[0m\u001b[0;34m\u001b[0m\u001b[0m\n",
            "\u001b[0;32m/usr/local/lib/python3.6/dist-packages/sklearn/ensemble/_forest.py\u001b[0m in \u001b[0;36mfit\u001b[0;34m(self, X, y, sample_weight)\u001b[0m\n\u001b[1;32m    319\u001b[0m         \u001b[0mself\u001b[0m\u001b[0;34m.\u001b[0m\u001b[0mn_outputs_\u001b[0m \u001b[0;34m=\u001b[0m \u001b[0my\u001b[0m\u001b[0;34m.\u001b[0m\u001b[0mshape\u001b[0m\u001b[0;34m[\u001b[0m\u001b[0;36m1\u001b[0m\u001b[0;34m]\u001b[0m\u001b[0;34m\u001b[0m\u001b[0;34m\u001b[0m\u001b[0m\n\u001b[1;32m    320\u001b[0m \u001b[0;34m\u001b[0m\u001b[0m\n\u001b[0;32m--> 321\u001b[0;31m         \u001b[0my\u001b[0m\u001b[0;34m,\u001b[0m \u001b[0mexpanded_class_weight\u001b[0m \u001b[0;34m=\u001b[0m \u001b[0mself\u001b[0m\u001b[0;34m.\u001b[0m\u001b[0m_validate_y_class_weight\u001b[0m\u001b[0;34m(\u001b[0m\u001b[0my\u001b[0m\u001b[0;34m)\u001b[0m\u001b[0;34m\u001b[0m\u001b[0;34m\u001b[0m\u001b[0m\n\u001b[0m\u001b[1;32m    322\u001b[0m \u001b[0;34m\u001b[0m\u001b[0m\n\u001b[1;32m    323\u001b[0m         \u001b[0;32mif\u001b[0m \u001b[0mgetattr\u001b[0m\u001b[0;34m(\u001b[0m\u001b[0my\u001b[0m\u001b[0;34m,\u001b[0m \u001b[0;34m\"dtype\"\u001b[0m\u001b[0;34m,\u001b[0m \u001b[0;32mNone\u001b[0m\u001b[0;34m)\u001b[0m \u001b[0;34m!=\u001b[0m \u001b[0mDOUBLE\u001b[0m \u001b[0;32mor\u001b[0m \u001b[0;32mnot\u001b[0m \u001b[0my\u001b[0m\u001b[0;34m.\u001b[0m\u001b[0mflags\u001b[0m\u001b[0;34m.\u001b[0m\u001b[0mcontiguous\u001b[0m\u001b[0;34m:\u001b[0m\u001b[0;34m\u001b[0m\u001b[0;34m\u001b[0m\u001b[0m\n",
            "\u001b[0;32m/usr/local/lib/python3.6/dist-packages/sklearn/ensemble/_forest.py\u001b[0m in \u001b[0;36m_validate_y_class_weight\u001b[0;34m(self, y)\u001b[0m\n\u001b[1;32m    539\u001b[0m \u001b[0;34m\u001b[0m\u001b[0m\n\u001b[1;32m    540\u001b[0m     \u001b[0;32mdef\u001b[0m \u001b[0m_validate_y_class_weight\u001b[0m\u001b[0;34m(\u001b[0m\u001b[0mself\u001b[0m\u001b[0;34m,\u001b[0m \u001b[0my\u001b[0m\u001b[0;34m)\u001b[0m\u001b[0;34m:\u001b[0m\u001b[0;34m\u001b[0m\u001b[0;34m\u001b[0m\u001b[0m\n\u001b[0;32m--> 541\u001b[0;31m         \u001b[0mcheck_classification_targets\u001b[0m\u001b[0;34m(\u001b[0m\u001b[0my\u001b[0m\u001b[0;34m)\u001b[0m\u001b[0;34m\u001b[0m\u001b[0;34m\u001b[0m\u001b[0m\n\u001b[0m\u001b[1;32m    542\u001b[0m \u001b[0;34m\u001b[0m\u001b[0m\n\u001b[1;32m    543\u001b[0m         \u001b[0my\u001b[0m \u001b[0;34m=\u001b[0m \u001b[0mnp\u001b[0m\u001b[0;34m.\u001b[0m\u001b[0mcopy\u001b[0m\u001b[0;34m(\u001b[0m\u001b[0my\u001b[0m\u001b[0;34m)\u001b[0m\u001b[0;34m\u001b[0m\u001b[0;34m\u001b[0m\u001b[0m\n",
            "\u001b[0;32m/usr/local/lib/python3.6/dist-packages/sklearn/utils/multiclass.py\u001b[0m in \u001b[0;36mcheck_classification_targets\u001b[0;34m(y)\u001b[0m\n\u001b[1;32m    167\u001b[0m     if y_type not in ['binary', 'multiclass', 'multiclass-multioutput',\n\u001b[1;32m    168\u001b[0m                       'multilabel-indicator', 'multilabel-sequences']:\n\u001b[0;32m--> 169\u001b[0;31m         \u001b[0;32mraise\u001b[0m \u001b[0mValueError\u001b[0m\u001b[0;34m(\u001b[0m\u001b[0;34m\"Unknown label type: %r\"\u001b[0m \u001b[0;34m%\u001b[0m \u001b[0my_type\u001b[0m\u001b[0;34m)\u001b[0m\u001b[0;34m\u001b[0m\u001b[0;34m\u001b[0m\u001b[0m\n\u001b[0m\u001b[1;32m    170\u001b[0m \u001b[0;34m\u001b[0m\u001b[0m\n\u001b[1;32m    171\u001b[0m \u001b[0;34m\u001b[0m\u001b[0m\n",
            "\u001b[0;31mValueError\u001b[0m: Unknown label type: 'continuous'"
          ]
        }
      ]
    },
    {
      "cell_type": "markdown",
      "metadata": {
        "id": "cbfzWy5vYYSz"
      },
      "source": [
        "# **Checking the model results**"
      ]
    },
    {
      "cell_type": "code",
      "metadata": {
        "id": "Vdg3P2TsYdoi"
      },
      "source": [
        "#!pip install pydot\n",
        "import pydot\n",
        "from IPython.display import Image\n",
        "from sklearn.externals.six import StringIO\n",
        "from sklearn.tree import export_graphviz"
      ],
      "execution_count": null,
      "outputs": []
    },
    {
      "cell_type": "code",
      "metadata": {
        "id": "eAGKYyEWYeiw"
      },
      "source": [
        "X.Price_euros.unique_values()"
      ],
      "execution_count": null,
      "outputs": []
    }
  ]
}