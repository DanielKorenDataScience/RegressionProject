{
  "nbformat": 4,
  "nbformat_minor": 0,
  "metadata": {
    "colab": {
      "name": "LaptopReg-split features.ipynb",
      "provenance": [],
      "collapsed_sections": []
    },
    "kernelspec": {
      "name": "python3",
      "display_name": "Python 3"
    }
  },
  "cells": [
    {
      "cell_type": "code",
      "metadata": {
        "id": "pr3oRfHCgpw4"
      },
      "source": [
        "# memory split\r\n",
        "df['Memory_SSD']= np.where(df.Memory.str.find(\"SSD\")==-1,0,1)\r\n",
        "df['Memory_Flash_Storage']= np.where(df.Memory.str.find(\"Flash Storage\")==-1,0,1)\r\n",
        "df['Memory_HDD']= np.where(df.Memory.str.find(\"HDD\")==-1,0,1)\r\n",
        "df['Memory_Hybrid']= np.where(df.Memory.str.find(\"Hybrid\")==-1,0,1)\r\n",
        "\r\n",
        "# CPU\r\n",
        "df['Cpu_HighSeries']=np.where((df.Cpu.str.split(\" \",1).str[0]==\"AMD\") |\r\n",
        "                              (df.Cpu.str.split(\" \",1).str[0]==\"Samsung\"),\r\n",
        "                              df.Cpu.str.split(\" \",1).str[1].str.split(\" \",1).str[0],\r\n",
        "          np.where((df.Cpu.str.split(\" \",1).str[0]==\"Intel\") & (df.Cpu.str.split(\" \",1).str[1].str.split(\" \",2).str[0].isin(['Xeon','Atom'])),df.Cpu.str.split(\" \",1).str[1].str.split(\" \",2).str[0],\r\n",
        "          np.where(df.Cpu.str.split(\" \",1).str[0]==\"Intel\",df.Cpu.str.split(\" \",1).str[1].str.split(\" \",2).str[0]+df.Cpu.str.split(\" \",1).str[1].str.split(\" \",2).str[1],\"missing\")))\r\n",
        "\r\n",
        "import re\r\n",
        "test1=df.Cpu.str.split().str[-2].str.split(\"-\").str[-1]\r\n",
        "test2=test1.apply(lambda x:re.findall(r'\\d+|$',x)[0])\r\n",
        "test2.replace([\"\"],[\"0\"],inplace=True)\r\n",
        "test2=test2.astype(int)\r\n",
        "df['Cpu_LowSeries']=np.where(test2<10,0,test2)\r\n",
        "\r\n",
        "# GPU\r\n",
        "df['Gpu_SubType']=np.where(df.Gpu.str.split(\" \",2).str[1].isin(['Graphics','R17M-M1-70','Mali','R4']),'missing',df.Gpu.str.split(\" \",2).str[1])\r\n",
        "\r\n",
        "# ScreenResolution\r\n",
        "df['Scr_HD']=np.where(df.ScreenResolution.str.find(\"Full HD\")>-1,'Full_HD',\r\n",
        "                    np.where(df.ScreenResolution.str.find(\"Quad HD\")>-1,'Quad_HD',\r\n",
        "                    np.where(df.ScreenResolution.str.find(\"Ultra HD\")>-1,'Ultra_HD',\r\n",
        "                             'missing')))\r\n",
        "df['Scr_Touchscreen']=np.where(df.ScreenResolution.str.find(\"Touchscreen\")>-1,1,0)\r\n",
        "\r\n",
        "\r\n",
        "#feature importance\r\n",
        "features=X_train.columns\r\n",
        "importances = dt_model_1.feature_importances_\r\n",
        "indices = np.argsort(importances)\r\n",
        "sns.set(font_scale=1)\r\n",
        "plt.figure(figsize=(10,10))\r\n",
        "plt.figure(1)\r\n",
        "plt.title('Feature Importances Price')\r\n",
        "plt.barh(range(len(indices)), importances[indices], color='b', align='center')\r\n",
        "plt.yticks(range(len(indices)), features[indices])\r\n",
        "plt.xlabel('Relative Importance')"
      ],
      "execution_count": null,
      "outputs": []
    }
  ]
}